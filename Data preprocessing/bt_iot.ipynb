{
 "cells": [
  {
   "cell_type": "code",
   "execution_count": 2,
   "metadata": {},
   "outputs": [
    {
     "name": "stdout",
     "output_type": "stream",
     "text": [
      "    Age   Income Student  Credit Rating Buys Computer\n",
      "0    21  60000.0     Yes              3            No\n",
      "1    30  70000.0      No              5            No\n",
      "2    38      NaN      No              2           Yes\n",
      "3    45  45000.0     Yes              3           Yes\n",
      "4    46  25000.0      No              2           Yes\n",
      "5    47  30000.0     Yes              6            No\n",
      "6    39  28000.0     Yes              5            No\n",
      "7    29  48000.0     Yes              3            No\n",
      "8    50  75000.0     Yes              2            No\n",
      "9    48      NaN     Yes              3            No\n",
      "10   30      NaN     Yes              6           Yes\n",
      "11   51  46000.0      No              4           Yes\n",
      "12   32  80000.0     Yes              2            No\n",
      "13   45  50000.0      No              4            No\n"
     ]
    }
   ],
   "source": [
    "import pandas as pd\n",
    "\n",
    "df = pd.read_excel('bt_iot.xlsx')\n",
    "\n",
    "print(df)"
   ]
  },
  {
   "cell_type": "code",
   "execution_count": 3,
   "metadata": {},
   "outputs": [
    {
     "name": "stdout",
     "output_type": "stream",
     "text": [
      "<class 'pandas.core.frame.DataFrame'>\n",
      "RangeIndex: 14 entries, 0 to 13\n",
      "Data columns (total 5 columns):\n",
      " #   Column         Non-Null Count  Dtype  \n",
      "---  ------         --------------  -----  \n",
      " 0   Age            14 non-null     int64  \n",
      " 1   Income         11 non-null     float64\n",
      " 2   Student        14 non-null     object \n",
      " 3   Credit Rating  14 non-null     int64  \n",
      " 4   Buys Computer  14 non-null     object \n",
      "dtypes: float64(1), int64(2), object(2)\n",
      "memory usage: 688.0+ bytes\n"
     ]
    }
   ],
   "source": [
    "df.info()"
   ]
  },
  {
   "cell_type": "code",
   "execution_count": null,
   "metadata": {},
   "outputs": [],
   "source": []
  }
 ],
 "metadata": {
  "kernelspec": {
   "display_name": "Python 3.7.9 ('learnML')",
   "language": "python",
   "name": "python3"
  },
  "language_info": {
   "codemirror_mode": {
    "name": "ipython",
    "version": 3
   },
   "file_extension": ".py",
   "mimetype": "text/x-python",
   "name": "python",
   "nbconvert_exporter": "python",
   "pygments_lexer": "ipython3",
   "version": "3.7.9"
  },
  "orig_nbformat": 4,
  "vscode": {
   "interpreter": {
    "hash": "2b9104dd1cf902b1f5882cd0ef476d24738f39ccfeed87167d531edf858cb62e"
   }
  }
 },
 "nbformat": 4,
 "nbformat_minor": 2
}
