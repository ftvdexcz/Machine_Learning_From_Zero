{
 "cells": [
  {
   "cell_type": "markdown",
   "metadata": {},
   "source": [
    "<h1 style=\"color:RGB(223, 207, 190); font-size: 25px\">Feature Scaling: Standardization vs Normalization<h1>"
   ]
  },
  {
   "cell_type": "markdown",
   "metadata": {},
   "source": [
    "References: https://www.analyticsvidhya.com/blog/2020/04/feature-scaling-machine-learning-normalization-standardization/?"
   ]
  },
  {
   "cell_type": "code",
   "execution_count": 1,
   "metadata": {},
   "outputs": [],
   "source": [
    "import pandas as pd\n",
    "from sklearn.model_selection import train_test_split"
   ]
  },
  {
   "cell_type": "markdown",
   "metadata": {},
   "source": [
    "<p>1. Normalization: All the features now have a minimum value of 0 and a maximum value of 1</p>"
   ]
  },
  {
   "cell_type": "code",
   "execution_count": 2,
   "metadata": {},
   "outputs": [],
   "source": [
    "from sklearn.preprocessing import MinMaxScaler\n",
    "\n",
    "data = pd.read_csv('train.csv')"
   ]
  },
  {
   "cell_type": "code",
   "execution_count": 3,
   "metadata": {},
   "outputs": [
    {
     "name": "stdout",
     "output_type": "stream",
     "text": [
      "Index(['Item_Identifier', 'Item_Weight', 'Item_Fat_Content', 'Item_Visibility',\n",
      "       'Item_Type', 'Item_MRP', 'Outlet_Identifier',\n",
      "       'Outlet_Establishment_Year', 'Outlet_Size', 'Outlet_Location_Type',\n",
      "       'Outlet_Type', 'Item_Outlet_Sales'],\n",
      "      dtype='object')\n"
     ]
    }
   ],
   "source": [
    "print(data.columns)"
   ]
  },
  {
   "cell_type": "code",
   "execution_count": 4,
   "metadata": {},
   "outputs": [
    {
     "name": "stdout",
     "output_type": "stream",
     "text": [
      "      Item_Weight  Item_MRP\n",
      "0           9.300  249.8092\n",
      "1           5.920   48.2692\n",
      "2          17.500  141.6180\n",
      "3          19.200  182.0950\n",
      "4           8.930   53.8614\n",
      "...           ...       ...\n",
      "8518        6.865  214.5218\n",
      "8519        8.380  108.1570\n",
      "8520       10.600   85.1224\n",
      "8521        7.210  103.1332\n",
      "8522       14.800   75.4670\n",
      "\n",
      "[8523 rows x 2 columns]\n",
      "0       3735.1380\n",
      "1        443.4228\n",
      "2       2097.2700\n",
      "3        732.3800\n",
      "4        994.7052\n",
      "          ...    \n",
      "8518    2778.3834\n",
      "8519     549.2850\n",
      "8520    1193.1136\n",
      "8521    1845.5976\n",
      "8522     765.6700\n",
      "Name: Item_Outlet_Sales, Length: 8523, dtype: float64\n"
     ]
    }
   ],
   "source": [
    "X = data[['Item_Weight', 'Item_MRP']]\n",
    "y = data['Item_Outlet_Sales']\n",
    "print(X)\n",
    "print(y)"
   ]
  },
  {
   "cell_type": "code",
   "execution_count": 5,
   "metadata": {},
   "outputs": [],
   "source": [
    "X_train, X_test, y_train, y_test = train_test_split(X,y,test_size=0.2,random_state=27)"
   ]
  },
  {
   "cell_type": "code",
   "execution_count": 6,
   "metadata": {},
   "outputs": [
    {
     "name": "stdout",
     "output_type": "stream",
     "text": [
      "[ 4.555 31.29 ] [ 21.35   266.8884]\n"
     ]
    }
   ],
   "source": [
    "# fit scaler on training data\n",
    "norm = MinMaxScaler()\n",
    "norm.fit(X_train)\n",
    "print(norm.data_min_, norm.data_max_)"
   ]
  },
  {
   "cell_type": "code",
   "execution_count": 7,
   "metadata": {},
   "outputs": [
    {
     "name": "stdout",
     "output_type": "stream",
     "text": [
      "Scaled Train Data: \n",
      "\n",
      "\n",
      "[[0.47305746 0.31285866]\n",
      " [0.17356356 0.77688049]\n",
      " [0.55343852 0.47209743]\n",
      " ...\n",
      " [0.49389699 0.94913208]\n",
      " [       nan 0.74522493]\n",
      " [       nan 0.01696701]]\n"
     ]
    }
   ],
   "source": [
    "X_train_norm = norm.transform(X_train)\n",
    "print(\"Scaled Train Data: \\n\\n\")\n",
    "print(X_train_norm)"
   ]
  },
  {
   "cell_type": "code",
   "execution_count": 8,
   "metadata": {},
   "outputs": [
    {
     "name": "stdout",
     "output_type": "stream",
     "text": [
      "\n",
      "\n",
      "Scaled Test Data: \n",
      "\n",
      "\n",
      "[[0.47901161 0.76219193]\n",
      " [0.47901161 0.60138948]\n",
      " [       nan 0.67513362]\n",
      " ...\n",
      " [0.38374516 0.3730314 ]\n",
      " [0.22119678 0.50756202]\n",
      " [0.93450432 0.91705207]]\n"
     ]
    }
   ],
   "source": [
    "X_test_norm = norm.transform(X_test)\n",
    "print(\"\\n\\nScaled Test Data: \\n\\n\")\n",
    "print(X_test_norm)"
   ]
  },
  {
   "cell_type": "markdown",
   "metadata": {},
   "source": [
    "<p>2. Standardization: mean = 0, standard deviation = 1</p>"
   ]
  },
  {
   "cell_type": "code",
   "execution_count": 13,
   "metadata": {},
   "outputs": [],
   "source": [
    "from sklearn.preprocessing import StandardScaler\n",
    "\n",
    "X_train_stand = X_train.copy()\n",
    "X_test_stand = X_test.copy()\n"
   ]
  },
  {
   "cell_type": "code",
   "execution_count": 14,
   "metadata": {},
   "outputs": [
    {
     "name": "stdout",
     "output_type": "stream",
     "text": [
      "      Item_Weight  Item_MRP\n",
      "5375        12.50  104.9990\n",
      "379          7.47  214.3218\n",
      "5834        13.85  142.5154\n",
      "3188        11.80   75.0012\n",
      "5434        15.20  256.0330\n",
      "...           ...       ...\n",
      "7192         8.26  116.0834\n",
      "4848         8.71  183.3924\n",
      "3912        12.85  254.9040\n",
      "3768          NaN  206.8638\n",
      "5139          NaN   35.2874\n",
      "\n",
      "[6818 rows x 2 columns]\n"
     ]
    }
   ],
   "source": [
    "print(X_train_stand)"
   ]
  },
  {
   "cell_type": "code",
   "execution_count": 15,
   "metadata": {},
   "outputs": [
    {
     "data": {
      "text/plain": [
       "StandardScaler()"
      ]
     },
     "execution_count": 15,
     "metadata": {},
     "output_type": "execute_result"
    }
   ],
   "source": [
    "scale = StandardScaler()\n",
    "scale.fit(X_train_stand)\n"
   ]
  },
  {
   "cell_type": "code",
   "execution_count": 16,
   "metadata": {},
   "outputs": [
    {
     "name": "stdout",
     "output_type": "stream",
     "text": [
      "[ 12.83077748 140.48641338] [ 4.65425654 62.06250096]\n"
     ]
    }
   ],
   "source": [
    "print(scale.mean_, scale.scale_)"
   ]
  },
  {
   "cell_type": "code",
   "execution_count": 17,
   "metadata": {},
   "outputs": [],
   "source": [
    "X_train_stand = scale.transform(X_train_stand)"
   ]
  },
  {
   "cell_type": "code",
   "execution_count": 18,
   "metadata": {},
   "outputs": [
    {
     "name": "stdout",
     "output_type": "stream",
     "text": [
      "[[-0.07106989 -0.57180121]\n",
      " [-1.15180103  1.18969403]\n",
      " [ 0.21898718  0.03269263]\n",
      " ...\n",
      " [ 0.00413009  1.84358646]\n",
      " [        nan  1.06952484]\n",
      " [        nan -1.69504953]]\n"
     ]
    }
   ],
   "source": [
    "print(X_train_stand)"
   ]
  },
  {
   "cell_type": "code",
   "execution_count": 19,
   "metadata": {},
   "outputs": [],
   "source": [
    "X_test_stand = scale.transform(X_test_stand)"
   ]
  },
  {
   "cell_type": "code",
   "execution_count": 20,
   "metadata": {},
   "outputs": [
    {
     "name": "stdout",
     "output_type": "stream",
     "text": [
      "[[-0.04958418  1.13393411]\n",
      " [-0.04958418  0.52350431]\n",
      " [        nan  0.80344791]\n",
      " ...\n",
      " [-0.39335552 -0.34337665]\n",
      " [-0.97991536  0.16732143]\n",
      " [ 1.59407253  1.721806  ]]\n"
     ]
    }
   ],
   "source": [
    "print(X_test_stand)"
   ]
  }
 ],
 "metadata": {
  "kernelspec": {
   "display_name": "Python 3.7.9 ('learnML')",
   "language": "python",
   "name": "python3"
  },
  "language_info": {
   "codemirror_mode": {
    "name": "ipython",
    "version": 3
   },
   "file_extension": ".py",
   "mimetype": "text/x-python",
   "name": "python",
   "nbconvert_exporter": "python",
   "pygments_lexer": "ipython3",
   "version": "3.7.9"
  },
  "orig_nbformat": 4,
  "vscode": {
   "interpreter": {
    "hash": "2b9104dd1cf902b1f5882cd0ef476d24738f39ccfeed87167d531edf858cb62e"
   }
  }
 },
 "nbformat": 4,
 "nbformat_minor": 2
}
