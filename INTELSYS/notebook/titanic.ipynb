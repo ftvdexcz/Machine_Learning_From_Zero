{
 "cells": [
  {
   "cell_type": "markdown",
   "metadata": {},
   "source": [
    "# DATA PREPROCESSING"
   ]
  },
  {
   "cell_type": "markdown",
   "metadata": {},
   "source": [
    "<ul>\n",
    "  <li>\n",
    "    Biến đổi feature\n",
    "    <ul>\n",
    "      <li>Feature Scaling: MinMaxScaling, Standardization</li>\n",
    "      <li>Tạo ra các biến mới</li>\n",
    "      <li>Xử lý dữ liệu bị thiếu</li>\n",
    "      <li>Rời rạc hóa dữ liệu</li>\n",
    "      <li>One-hot encoding</li>\n",
    "    </ul>\n",
    "  </li>\n",
    "  <li>Lựa chọn feature: Chọn ra những thuộc tính mang nhiều thông tin, có giá trị trong việc dự đoán\n",
    "    <ul>\n",
    "      <li>Ma trận tương quan (Matrix correlation)</li>\n",
    "      <li>Exhaustive Feature Selection</li>\n",
    "      <li>Chi-square Test</li>\n",
    "      <li>...</li>\n",
    "    </ul>\n",
    "  </li>\n",
    "</ul>\n"
   ]
  },
  {
   "cell_type": "markdown",
   "metadata": {},
   "source": [
    "## Import libraries"
   ]
  },
  {
   "cell_type": "code",
   "execution_count": 1,
   "metadata": {},
   "outputs": [],
   "source": [
    "import numpy as np \n",
    "import pandas as pd\n",
    "import matplotlib.pyplot as plt\n",
    "import seaborn as sns\n",
    "from sklearn.impute import SimpleImputer \n",
    "from sklearn.compose import ColumnTransformer\n",
    "from sklearn.preprocessing import OneHotEncoder\n",
    "from sklearn.model_selection import train_test_split\n",
    "from sklearn.preprocessing import StandardScaler, MinMaxScaler\n",
    "from sklearn.metrics import accuracy_score, confusion_matrix\n",
    "from sklearn.linear_model import LogisticRegression"
   ]
  },
  {
   "cell_type": "markdown",
   "metadata": {},
   "source": [
    "## Import data"
   ]
  },
  {
   "cell_type": "code",
   "execution_count": 2,
   "metadata": {},
   "outputs": [
    {
     "data": {
      "text/html": [
       "<div>\n",
       "<style scoped>\n",
       "    .dataframe tbody tr th:only-of-type {\n",
       "        vertical-align: middle;\n",
       "    }\n",
       "\n",
       "    .dataframe tbody tr th {\n",
       "        vertical-align: top;\n",
       "    }\n",
       "\n",
       "    .dataframe thead th {\n",
       "        text-align: right;\n",
       "    }\n",
       "</style>\n",
       "<table border=\"1\" class=\"dataframe\">\n",
       "  <thead>\n",
       "    <tr style=\"text-align: right;\">\n",
       "      <th></th>\n",
       "      <th>PassengerId</th>\n",
       "      <th>Survived</th>\n",
       "      <th>Pclass</th>\n",
       "      <th>Name</th>\n",
       "      <th>Sex</th>\n",
       "      <th>Age</th>\n",
       "      <th>SibSp</th>\n",
       "      <th>Parch</th>\n",
       "      <th>Ticket</th>\n",
       "      <th>Fare</th>\n",
       "      <th>Cabin</th>\n",
       "      <th>Embarked</th>\n",
       "    </tr>\n",
       "  </thead>\n",
       "  <tbody>\n",
       "    <tr>\n",
       "      <th>0</th>\n",
       "      <td>1</td>\n",
       "      <td>0</td>\n",
       "      <td>3</td>\n",
       "      <td>Braund, Mr. Owen Harris</td>\n",
       "      <td>male</td>\n",
       "      <td>22.0</td>\n",
       "      <td>1</td>\n",
       "      <td>0</td>\n",
       "      <td>A/5 21171</td>\n",
       "      <td>7.2500</td>\n",
       "      <td>NaN</td>\n",
       "      <td>S</td>\n",
       "    </tr>\n",
       "    <tr>\n",
       "      <th>1</th>\n",
       "      <td>2</td>\n",
       "      <td>1</td>\n",
       "      <td>1</td>\n",
       "      <td>Cumings, Mrs. John Bradley (Florence Briggs Th...</td>\n",
       "      <td>female</td>\n",
       "      <td>38.0</td>\n",
       "      <td>1</td>\n",
       "      <td>0</td>\n",
       "      <td>PC 17599</td>\n",
       "      <td>71.2833</td>\n",
       "      <td>C85</td>\n",
       "      <td>C</td>\n",
       "    </tr>\n",
       "    <tr>\n",
       "      <th>2</th>\n",
       "      <td>3</td>\n",
       "      <td>1</td>\n",
       "      <td>3</td>\n",
       "      <td>Heikkinen, Miss. Laina</td>\n",
       "      <td>female</td>\n",
       "      <td>26.0</td>\n",
       "      <td>0</td>\n",
       "      <td>0</td>\n",
       "      <td>STON/O2. 3101282</td>\n",
       "      <td>7.9250</td>\n",
       "      <td>NaN</td>\n",
       "      <td>S</td>\n",
       "    </tr>\n",
       "    <tr>\n",
       "      <th>3</th>\n",
       "      <td>4</td>\n",
       "      <td>1</td>\n",
       "      <td>1</td>\n",
       "      <td>Futrelle, Mrs. Jacques Heath (Lily May Peel)</td>\n",
       "      <td>female</td>\n",
       "      <td>35.0</td>\n",
       "      <td>1</td>\n",
       "      <td>0</td>\n",
       "      <td>113803</td>\n",
       "      <td>53.1000</td>\n",
       "      <td>C123</td>\n",
       "      <td>S</td>\n",
       "    </tr>\n",
       "    <tr>\n",
       "      <th>4</th>\n",
       "      <td>5</td>\n",
       "      <td>0</td>\n",
       "      <td>3</td>\n",
       "      <td>Allen, Mr. William Henry</td>\n",
       "      <td>male</td>\n",
       "      <td>35.0</td>\n",
       "      <td>0</td>\n",
       "      <td>0</td>\n",
       "      <td>373450</td>\n",
       "      <td>8.0500</td>\n",
       "      <td>NaN</td>\n",
       "      <td>S</td>\n",
       "    </tr>\n",
       "  </tbody>\n",
       "</table>\n",
       "</div>"
      ],
      "text/plain": [
       "   PassengerId  Survived  Pclass  \\\n",
       "0            1         0       3   \n",
       "1            2         1       1   \n",
       "2            3         1       3   \n",
       "3            4         1       1   \n",
       "4            5         0       3   \n",
       "\n",
       "                                                Name     Sex   Age  SibSp  \\\n",
       "0                            Braund, Mr. Owen Harris    male  22.0      1   \n",
       "1  Cumings, Mrs. John Bradley (Florence Briggs Th...  female  38.0      1   \n",
       "2                             Heikkinen, Miss. Laina  female  26.0      0   \n",
       "3       Futrelle, Mrs. Jacques Heath (Lily May Peel)  female  35.0      1   \n",
       "4                           Allen, Mr. William Henry    male  35.0      0   \n",
       "\n",
       "   Parch            Ticket     Fare Cabin Embarked  \n",
       "0      0         A/5 21171   7.2500   NaN        S  \n",
       "1      0          PC 17599  71.2833   C85        C  \n",
       "2      0  STON/O2. 3101282   7.9250   NaN        S  \n",
       "3      0            113803  53.1000  C123        S  \n",
       "4      0            373450   8.0500   NaN        S  "
      ]
     },
     "execution_count": 2,
     "metadata": {},
     "output_type": "execute_result"
    }
   ],
   "source": [
    "df = pd.read_csv(\"train.csv\")\n",
    "df.head()"
   ]
  },
  {
   "cell_type": "code",
   "execution_count": 3,
   "metadata": {},
   "outputs": [
    {
     "data": {
      "text/plain": [
       "'\\nPassengerId: Unique ID of passenger aboard the ship\\nSurvived: 0 = No, 1 = Yes (Only in the training data)\\nPclass: Ticket class (1,2,3)\\nName: Name of the passenger\\nSex: male, female\\nAge (in years)\\nSibSp: # of siblings / spouses aboard the Titanic\\nParch: # of parents / children aboard the Titanic\\nTicket: Ticket number\\nFare: Passenger fare\\nCabin: Cabin number\\nEmbarked: Port of Embarkation (C = Cherbourg, Q = Queenstown, S = Southampton)\\n'"
      ]
     },
     "execution_count": 3,
     "metadata": {},
     "output_type": "execute_result"
    }
   ],
   "source": [
    "'''\n",
    "PassengerId: Unique ID of passenger aboard the ship\n",
    "Survived: 0 = No, 1 = Yes (Only in the training data)\n",
    "Pclass: Ticket class (1,2,3)\n",
    "Name: Name of the passenger\n",
    "Sex: male, female\n",
    "Age (in years)\n",
    "SibSp: # of siblings / spouses aboard the Titanic\n",
    "Parch: # of parents / children aboard the Titanic\n",
    "Ticket: Ticket number\n",
    "Fare: Passenger fare\n",
    "Cabin: Cabin number\n",
    "Embarked: Port of Embarkation (C = Cherbourg, Q = Queenstown, S = Southampton)\n",
    "'''"
   ]
  },
  {
   "cell_type": "code",
<<<<<<< HEAD:Data preprocessing/titanic/titanic.ipynb
   "execution_count": 4,
=======
   "execution_count": 3,
>>>>>>> 1eb53a088ae9dedf0072f19419315f1dce1bd26c:INTELSYS/notebook/titanic.ipynb
   "metadata": {},
   "outputs": [
    {
     "name": "stdout",
     "output_type": "stream",
     "text": [
      "<class 'pandas.core.frame.DataFrame'>\n",
      "RangeIndex: 891 entries, 0 to 890\n",
      "Data columns (total 12 columns):\n",
      " #   Column       Non-Null Count  Dtype  \n",
      "---  ------       --------------  -----  \n",
      " 0   PassengerId  891 non-null    int64  \n",
      " 1   Survived     891 non-null    int64  \n",
      " 2   Pclass       891 non-null    int64  \n",
      " 3   Name         891 non-null    object \n",
      " 4   Sex          891 non-null    object \n",
      " 5   Age          714 non-null    float64\n",
      " 6   SibSp        891 non-null    int64  \n",
      " 7   Parch        891 non-null    int64  \n",
      " 8   Ticket       891 non-null    object \n",
      " 9   Fare         891 non-null    float64\n",
      " 10  Cabin        204 non-null    object \n",
      " 11  Embarked     889 non-null    object \n",
      "dtypes: float64(2), int64(5), object(5)\n",
      "memory usage: 83.7+ KB\n"
     ]
    }
   ],
   "source": [
    "df.info()"
   ]
  },
  {
   "cell_type": "markdown",
   "metadata": {},
   "source": [
    "## Handle missing data"
   ]
  },
  {
   "cell_type": "markdown",
   "metadata": {},
   "source": [
    "Một số cách xử lý dữ liệu bị mất: \n",
    "- Nếu label bị thiếu có thể bỏ mẫu đó\n",
    "- Thay thế bằng giá trị trung bình của cột thuộc tính đó\n",
    "- Thay thế bằng giá trị trung bình của cột thuộc tính theo từng class\n",
    "- Nếu là dữ liệu rời rạc có thể thêm giá trị như \"unknown\"\n",
    "- Thay thế dữ liệu bằng giá trị có tần suất xảy ra nhiều nhất "
   ]
  },
  {
   "cell_type": "code",
<<<<<<< HEAD:Data preprocessing/titanic/titanic.ipynb
   "execution_count": 5,
=======
   "execution_count": 4,
>>>>>>> 1eb53a088ae9dedf0072f19419315f1dce1bd26c:INTELSYS/notebook/titanic.ipynb
   "metadata": {},
   "outputs": [],
   "source": [
    "imputer = SimpleImputer(missing_values=np.nan, strategy= 'mean') # create object allows replace NaN by mean value\n",
    "df['Age'] = imputer.fit_transform(np.array(df['Age']).reshape(-1,1))"
   ]
  },
  {
   "cell_type": "code",
<<<<<<< HEAD:Data preprocessing/titanic/titanic.ipynb
   "execution_count": 6,
=======
   "execution_count": 5,
>>>>>>> 1eb53a088ae9dedf0072f19419315f1dce1bd26c:INTELSYS/notebook/titanic.ipynb
   "metadata": {},
   "outputs": [
    {
     "data": {
      "text/plain": [
       "False"
      ]
     },
<<<<<<< HEAD:Data preprocessing/titanic/titanic.ipynb
     "execution_count": 6,
=======
     "execution_count": 5,
>>>>>>> 1eb53a088ae9dedf0072f19419315f1dce1bd26c:INTELSYS/notebook/titanic.ipynb
     "metadata": {},
     "output_type": "execute_result"
    }
   ],
   "source": [
    "df['Age'].isnull().values.any() # check NaN"
   ]
  },
  {
   "cell_type": "code",
<<<<<<< HEAD:Data preprocessing/titanic/titanic.ipynb
   "execution_count": 7,
=======
   "execution_count": 6,
>>>>>>> 1eb53a088ae9dedf0072f19419315f1dce1bd26c:INTELSYS/notebook/titanic.ipynb
   "metadata": {},
   "outputs": [],
   "source": [
    "df.drop('Cabin',axis=1,inplace=True) # drop cột Cabin"
   ]
  },
  {
   "cell_type": "code",
<<<<<<< HEAD:Data preprocessing/titanic/titanic.ipynb
   "execution_count": 8,
=======
   "execution_count": 7,
>>>>>>> 1eb53a088ae9dedf0072f19419315f1dce1bd26c:INTELSYS/notebook/titanic.ipynb
   "metadata": {},
   "outputs": [],
   "source": [
    "df.dropna(subset=['Embarked'],inplace=True) # loại row có Embarked NaN"
   ]
  },
  {
   "cell_type": "code",
<<<<<<< HEAD:Data preprocessing/titanic/titanic.ipynb
   "execution_count": 9,
=======
   "execution_count": 8,
>>>>>>> 1eb53a088ae9dedf0072f19419315f1dce1bd26c:INTELSYS/notebook/titanic.ipynb
   "metadata": {},
   "outputs": [
    {
     "name": "stdout",
     "output_type": "stream",
     "text": [
      "<class 'pandas.core.frame.DataFrame'>\n",
      "Int64Index: 889 entries, 0 to 890\n",
      "Data columns (total 11 columns):\n",
      " #   Column       Non-Null Count  Dtype  \n",
      "---  ------       --------------  -----  \n",
      " 0   PassengerId  889 non-null    int64  \n",
      " 1   Survived     889 non-null    int64  \n",
      " 2   Pclass       889 non-null    int64  \n",
      " 3   Name         889 non-null    object \n",
      " 4   Sex          889 non-null    object \n",
      " 5   Age          889 non-null    float64\n",
      " 6   SibSp        889 non-null    int64  \n",
      " 7   Parch        889 non-null    int64  \n",
      " 8   Ticket       889 non-null    object \n",
      " 9   Fare         889 non-null    float64\n",
      " 10  Embarked     889 non-null    object \n",
      "dtypes: float64(2), int64(5), object(4)\n",
      "memory usage: 83.3+ KB\n"
     ]
    }
   ],
   "source": [
    "df.info()"
   ]
  },
  {
   "cell_type": "markdown",
   "metadata": {},
   "source": [
    "## Feature Extraction"
   ]
  },
  {
   "cell_type": "code",
<<<<<<< HEAD:Data preprocessing/titanic/titanic.ipynb
   "execution_count": 10,
=======
   "execution_count": 9,
>>>>>>> 1eb53a088ae9dedf0072f19419315f1dce1bd26c:INTELSYS/notebook/titanic.ipynb
   "metadata": {},
   "outputs": [],
   "source": [
    "# Thay 2 cột SibSp, Parch thành FamilySize\n",
    "df['FamilySize'] = df['SibSp'] + df['Parch']\n",
    "df.drop(['SibSp','Parch'],axis=1,inplace=True)"
   ]
  },
  {
   "cell_type": "code",
<<<<<<< HEAD:Data preprocessing/titanic/titanic.ipynb
   "execution_count": 11,
=======
   "execution_count": 10,
>>>>>>> 1eb53a088ae9dedf0072f19419315f1dce1bd26c:INTELSYS/notebook/titanic.ipynb
   "metadata": {},
   "outputs": [],
   "source": [
    "# chia FamilySize thành các nhóm: {0: 'Alone', 1-3: 'Small', 4-6: 'Medium', > 7: 'Large'}\n",
    "df['FamilySize'] = pd.cut(df['FamilySize'],bins=[0,1,4,7,100],labels=['Alone','Small','Medium','Large'],right=False)"
   ]
  },
  {
   "cell_type": "code",
<<<<<<< HEAD:Data preprocessing/titanic/titanic.ipynb
   "execution_count": 12,
=======
   "execution_count": 11,
>>>>>>> 1eb53a088ae9dedf0072f19419315f1dce1bd26c:INTELSYS/notebook/titanic.ipynb
   "metadata": {},
   "outputs": [
    {
     "data": {
      "text/html": [
       "<div>\n",
       "<style scoped>\n",
       "    .dataframe tbody tr th:only-of-type {\n",
       "        vertical-align: middle;\n",
       "    }\n",
       "\n",
       "    .dataframe tbody tr th {\n",
       "        vertical-align: top;\n",
       "    }\n",
       "\n",
       "    .dataframe thead th {\n",
       "        text-align: right;\n",
       "    }\n",
       "</style>\n",
       "<table border=\"1\" class=\"dataframe\">\n",
       "  <thead>\n",
       "    <tr style=\"text-align: right;\">\n",
       "      <th></th>\n",
       "      <th>PassengerId</th>\n",
       "      <th>Survived</th>\n",
       "      <th>Pclass</th>\n",
       "      <th>Name</th>\n",
       "      <th>Sex</th>\n",
       "      <th>Age</th>\n",
       "      <th>Ticket</th>\n",
       "      <th>Fare</th>\n",
       "      <th>Embarked</th>\n",
       "      <th>FamilySize</th>\n",
       "    </tr>\n",
       "  </thead>\n",
       "  <tbody>\n",
       "    <tr>\n",
       "      <th>0</th>\n",
       "      <td>1</td>\n",
       "      <td>0</td>\n",
       "      <td>3</td>\n",
       "      <td>Braund, Mr. Owen Harris</td>\n",
       "      <td>male</td>\n",
       "      <td>22.0</td>\n",
       "      <td>A/5 21171</td>\n",
       "      <td>7.2500</td>\n",
       "      <td>S</td>\n",
       "      <td>Small</td>\n",
       "    </tr>\n",
       "    <tr>\n",
       "      <th>1</th>\n",
       "      <td>2</td>\n",
       "      <td>1</td>\n",
       "      <td>1</td>\n",
       "      <td>Cumings, Mrs. John Bradley (Florence Briggs Th...</td>\n",
       "      <td>female</td>\n",
       "      <td>38.0</td>\n",
       "      <td>PC 17599</td>\n",
       "      <td>71.2833</td>\n",
       "      <td>C</td>\n",
       "      <td>Small</td>\n",
       "    </tr>\n",
       "    <tr>\n",
       "      <th>2</th>\n",
       "      <td>3</td>\n",
       "      <td>1</td>\n",
       "      <td>3</td>\n",
       "      <td>Heikkinen, Miss. Laina</td>\n",
       "      <td>female</td>\n",
       "      <td>26.0</td>\n",
       "      <td>STON/O2. 3101282</td>\n",
       "      <td>7.9250</td>\n",
       "      <td>S</td>\n",
       "      <td>Alone</td>\n",
       "    </tr>\n",
       "    <tr>\n",
       "      <th>3</th>\n",
       "      <td>4</td>\n",
       "      <td>1</td>\n",
       "      <td>1</td>\n",
       "      <td>Futrelle, Mrs. Jacques Heath (Lily May Peel)</td>\n",
       "      <td>female</td>\n",
       "      <td>35.0</td>\n",
       "      <td>113803</td>\n",
       "      <td>53.1000</td>\n",
       "      <td>S</td>\n",
       "      <td>Small</td>\n",
       "    </tr>\n",
       "    <tr>\n",
       "      <th>4</th>\n",
       "      <td>5</td>\n",
       "      <td>0</td>\n",
       "      <td>3</td>\n",
       "      <td>Allen, Mr. William Henry</td>\n",
       "      <td>male</td>\n",
       "      <td>35.0</td>\n",
       "      <td>373450</td>\n",
       "      <td>8.0500</td>\n",
       "      <td>S</td>\n",
       "      <td>Alone</td>\n",
       "    </tr>\n",
       "  </tbody>\n",
       "</table>\n",
       "</div>"
      ],
      "text/plain": [
       "   PassengerId  Survived  Pclass  \\\n",
       "0            1         0       3   \n",
       "1            2         1       1   \n",
       "2            3         1       3   \n",
       "3            4         1       1   \n",
       "4            5         0       3   \n",
       "\n",
       "                                                Name     Sex   Age  \\\n",
       "0                            Braund, Mr. Owen Harris    male  22.0   \n",
       "1  Cumings, Mrs. John Bradley (Florence Briggs Th...  female  38.0   \n",
       "2                             Heikkinen, Miss. Laina  female  26.0   \n",
       "3       Futrelle, Mrs. Jacques Heath (Lily May Peel)  female  35.0   \n",
       "4                           Allen, Mr. William Henry    male  35.0   \n",
       "\n",
       "             Ticket     Fare Embarked FamilySize  \n",
       "0         A/5 21171   7.2500        S      Small  \n",
       "1          PC 17599  71.2833        C      Small  \n",
       "2  STON/O2. 3101282   7.9250        S      Alone  \n",
       "3            113803  53.1000        S      Small  \n",
       "4            373450   8.0500        S      Alone  "
      ]
     },
<<<<<<< HEAD:Data preprocessing/titanic/titanic.ipynb
     "execution_count": 12,
=======
     "execution_count": 11,
>>>>>>> 1eb53a088ae9dedf0072f19419315f1dce1bd26c:INTELSYS/notebook/titanic.ipynb
     "metadata": {},
     "output_type": "execute_result"
    }
   ],
   "source": [
    "df.head()"
   ]
  },
  {
   "cell_type": "code",
<<<<<<< HEAD:Data preprocessing/titanic/titanic.ipynb
   "execution_count": 13,
=======
   "execution_count": 12,
>>>>>>> 1eb53a088ae9dedf0072f19419315f1dce1bd26c:INTELSYS/notebook/titanic.ipynb
   "metadata": {},
   "outputs": [],
   "source": [
    "# loại bỏ những cột ít ý nghĩa với train model\n",
    "df.drop(['PassengerId','Name','Ticket'],axis=1,inplace=True)"
   ]
  },
  {
   "cell_type": "code",
<<<<<<< HEAD:Data preprocessing/titanic/titanic.ipynb
   "execution_count": 14,
=======
   "execution_count": 13,
>>>>>>> 1eb53a088ae9dedf0072f19419315f1dce1bd26c:INTELSYS/notebook/titanic.ipynb
   "metadata": {},
   "outputs": [
    {
     "data": {
      "text/html": [
       "<div>\n",
       "<style scoped>\n",
       "    .dataframe tbody tr th:only-of-type {\n",
       "        vertical-align: middle;\n",
       "    }\n",
       "\n",
       "    .dataframe tbody tr th {\n",
       "        vertical-align: top;\n",
       "    }\n",
       "\n",
       "    .dataframe thead th {\n",
       "        text-align: right;\n",
       "    }\n",
       "</style>\n",
       "<table border=\"1\" class=\"dataframe\">\n",
       "  <thead>\n",
       "    <tr style=\"text-align: right;\">\n",
       "      <th></th>\n",
       "      <th>Survived</th>\n",
       "      <th>Pclass</th>\n",
       "      <th>Sex</th>\n",
       "      <th>Age</th>\n",
       "      <th>Fare</th>\n",
       "      <th>Embarked</th>\n",
       "      <th>FamilySize</th>\n",
       "    </tr>\n",
       "  </thead>\n",
       "  <tbody>\n",
       "    <tr>\n",
       "      <th>0</th>\n",
       "      <td>0</td>\n",
       "      <td>3</td>\n",
       "      <td>male</td>\n",
       "      <td>22.0</td>\n",
       "      <td>7.2500</td>\n",
       "      <td>S</td>\n",
       "      <td>Small</td>\n",
       "    </tr>\n",
       "    <tr>\n",
       "      <th>1</th>\n",
       "      <td>1</td>\n",
       "      <td>1</td>\n",
       "      <td>female</td>\n",
       "      <td>38.0</td>\n",
       "      <td>71.2833</td>\n",
       "      <td>C</td>\n",
       "      <td>Small</td>\n",
       "    </tr>\n",
       "    <tr>\n",
       "      <th>2</th>\n",
       "      <td>1</td>\n",
       "      <td>3</td>\n",
       "      <td>female</td>\n",
       "      <td>26.0</td>\n",
       "      <td>7.9250</td>\n",
       "      <td>S</td>\n",
       "      <td>Alone</td>\n",
       "    </tr>\n",
       "    <tr>\n",
       "      <th>3</th>\n",
       "      <td>1</td>\n",
       "      <td>1</td>\n",
       "      <td>female</td>\n",
       "      <td>35.0</td>\n",
       "      <td>53.1000</td>\n",
       "      <td>S</td>\n",
       "      <td>Small</td>\n",
       "    </tr>\n",
       "    <tr>\n",
       "      <th>4</th>\n",
       "      <td>0</td>\n",
       "      <td>3</td>\n",
       "      <td>male</td>\n",
       "      <td>35.0</td>\n",
       "      <td>8.0500</td>\n",
       "      <td>S</td>\n",
       "      <td>Alone</td>\n",
       "    </tr>\n",
       "  </tbody>\n",
       "</table>\n",
       "</div>"
      ],
      "text/plain": [
       "   Survived  Pclass     Sex   Age     Fare Embarked FamilySize\n",
       "0         0       3    male  22.0   7.2500        S      Small\n",
       "1         1       1  female  38.0  71.2833        C      Small\n",
       "2         1       3  female  26.0   7.9250        S      Alone\n",
       "3         1       1  female  35.0  53.1000        S      Small\n",
       "4         0       3    male  35.0   8.0500        S      Alone"
      ]
     },
<<<<<<< HEAD:Data preprocessing/titanic/titanic.ipynb
     "execution_count": 14,
=======
     "execution_count": 13,
>>>>>>> 1eb53a088ae9dedf0072f19419315f1dce1bd26c:INTELSYS/notebook/titanic.ipynb
     "metadata": {},
     "output_type": "execute_result"
    }
   ],
   "source": [
    "df.head()"
   ]
  },
  {
   "cell_type": "code",
<<<<<<< HEAD:Data preprocessing/titanic/titanic.ipynb
   "execution_count": 15,
=======
   "execution_count": 14,
>>>>>>> 1eb53a088ae9dedf0072f19419315f1dce1bd26c:INTELSYS/notebook/titanic.ipynb
   "metadata": {},
   "outputs": [
    {
     "data": {
      "text/plain": [
       "<AxesSubplot:>"
      ]
     },
<<<<<<< HEAD:Data preprocessing/titanic/titanic.ipynb
     "execution_count": 15,
=======
     "execution_count": 14,
>>>>>>> 1eb53a088ae9dedf0072f19419315f1dce1bd26c:INTELSYS/notebook/titanic.ipynb
     "metadata": {},
     "output_type": "execute_result"
    },
    {
     "data": {
      "image/png": "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",
      "text/plain": [
       "<Figure size 432x288 with 2 Axes>"
      ]
     },
     "metadata": {
      "needs_background": "light"
     },
     "output_type": "display_data"
    }
   ],
   "source": [
    "sns.heatmap(df.corr(),annot=True)"
   ]
  },
  {
   "cell_type": "code",
<<<<<<< HEAD:Data preprocessing/titanic/titanic.ipynb
   "execution_count": 16,
=======
   "execution_count": 15,
>>>>>>> 1eb53a088ae9dedf0072f19419315f1dce1bd26c:INTELSYS/notebook/titanic.ipynb
   "metadata": {},
   "outputs": [
    {
     "data": {
      "image/png": "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",
      "text/plain": [
       "<Figure size 1080x360 with 2 Axes>"
      ]
     },
     "metadata": {
      "needs_background": "light"
     },
     "output_type": "display_data"
    }
   ],
   "source": [
    "fig, (ax1,ax2) = plt.subplots(1,2,figsize=(15,5))\n",
    "\n",
    "sns.histplot(df['Age'],bins=30,ax=ax1)\n",
    "ax1.set_xlim([0,80])\n",
    "ax1.set_ylim([0,400])\n",
    "ax1.set_xlabel('Age')\n",
    "ax1.set_ylabel('Number of Passengers')\n",
    "\n",
    "sns.histplot(df['Fare'],ax=ax2,bins=40)\n",
    "ax2.set_xlim([0,500])\n",
    "ax2.set_xlabel('Fare')\n",
    "\n",
    "plt.show()"
   ]
  },
  {
   "cell_type": "code",
<<<<<<< HEAD:Data preprocessing/titanic/titanic.ipynb
   "execution_count": 17,
=======
   "execution_count": 16,
>>>>>>> 1eb53a088ae9dedf0072f19419315f1dce1bd26c:INTELSYS/notebook/titanic.ipynb
   "metadata": {},
   "outputs": [
    {
     "data": {
      "image/png": "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",
      "text/plain": [
       "<Figure size 432x288 with 1 Axes>"
      ]
     },
     "metadata": {
      "needs_background": "light"
     },
     "output_type": "display_data"
    }
   ],
   "source": [
    "fig, ax = plt.subplots(1,1)\n",
    "\n",
    "sns.barplot(x='Survived',y='Sex',data=df,errwidth=0,ax=ax)\n",
    "ax.set_xlim([0,1])\n",
    "ax.set_xlabel('Survival %')\n",
    "ax.set_ylabel('')\n",
    "ax.set_title('Survival % based on genders')\n",
    "\n",
    "plt.show()"
   ]
  },
  {
   "cell_type": "markdown",
   "metadata": {},
   "source": [
    "## Prepare data for training model"
   ]
  },
  {
   "cell_type": "code",
   "execution_count": 18,
   "metadata": {},
   "outputs": [],
   "source": [
    "y = df['Survived']\n",
    "X = df.drop(['Survived'],axis=1)"
   ]
  },
  {
   "cell_type": "code",
   "execution_count": 19,
   "metadata": {},
   "outputs": [
    {
     "name": "stdout",
     "output_type": "stream",
     "text": [
      "     Pclass     Sex        Age     Fare Embarked FamilySize\n",
      "0         3    male  22.000000   7.2500        S      Small\n",
      "1         1  female  38.000000  71.2833        C      Small\n",
      "2         3  female  26.000000   7.9250        S      Alone\n",
      "3         1  female  35.000000  53.1000        S      Small\n",
      "4         3    male  35.000000   8.0500        S      Alone\n",
      "..      ...     ...        ...      ...      ...        ...\n",
      "886       2    male  27.000000  13.0000        S      Alone\n",
      "887       1  female  19.000000  30.0000        S      Alone\n",
      "888       3  female  29.699118  23.4500        S      Small\n",
      "889       1    male  26.000000  30.0000        C      Alone\n",
      "890       3    male  32.000000   7.7500        Q      Alone\n",
      "\n",
      "[889 rows x 6 columns]\n"
     ]
    }
   ],
   "source": [
    "print(X)"
   ]
  },
  {
   "cell_type": "markdown",
   "metadata": {},
   "source": [
    "- One hot encoding"
   ]
  },
  {
   "cell_type": "code",
   "execution_count": 20,
   "metadata": {},
   "outputs": [
    {
     "data": {
      "text/html": [
       "<div>\n",
       "<style scoped>\n",
       "    .dataframe tbody tr th:only-of-type {\n",
       "        vertical-align: middle;\n",
       "    }\n",
       "\n",
       "    .dataframe tbody tr th {\n",
       "        vertical-align: top;\n",
       "    }\n",
       "\n",
       "    .dataframe thead th {\n",
       "        text-align: right;\n",
       "    }\n",
       "</style>\n",
       "<table border=\"1\" class=\"dataframe\">\n",
       "  <thead>\n",
       "    <tr style=\"text-align: right;\">\n",
       "      <th></th>\n",
       "      <th>Sex_female</th>\n",
       "      <th>Sex_male</th>\n",
       "      <th>Embarked_C</th>\n",
       "      <th>Embarked_Q</th>\n",
       "      <th>Embarked_S</th>\n",
       "      <th>FamilySize_Alone</th>\n",
       "      <th>FamilySize_Large</th>\n",
       "      <th>FamilySize_Medium</th>\n",
       "      <th>FamilySize_Small</th>\n",
       "      <th>Pclass</th>\n",
       "      <th>Age</th>\n",
       "      <th>Fare</th>\n",
       "    </tr>\n",
       "  </thead>\n",
       "  <tbody>\n",
       "    <tr>\n",
       "      <th>0</th>\n",
       "      <td>0.0</td>\n",
       "      <td>1.0</td>\n",
       "      <td>0.0</td>\n",
       "      <td>0.0</td>\n",
       "      <td>1.0</td>\n",
       "      <td>0.0</td>\n",
       "      <td>0.0</td>\n",
       "      <td>0.0</td>\n",
       "      <td>1.0</td>\n",
       "      <td>3.0</td>\n",
       "      <td>22.0</td>\n",
       "      <td>7.2500</td>\n",
       "    </tr>\n",
       "    <tr>\n",
       "      <th>1</th>\n",
       "      <td>1.0</td>\n",
       "      <td>0.0</td>\n",
       "      <td>1.0</td>\n",
       "      <td>0.0</td>\n",
       "      <td>0.0</td>\n",
       "      <td>0.0</td>\n",
       "      <td>0.0</td>\n",
       "      <td>0.0</td>\n",
       "      <td>1.0</td>\n",
       "      <td>1.0</td>\n",
       "      <td>38.0</td>\n",
       "      <td>71.2833</td>\n",
       "    </tr>\n",
       "    <tr>\n",
       "      <th>2</th>\n",
       "      <td>1.0</td>\n",
       "      <td>0.0</td>\n",
       "      <td>0.0</td>\n",
       "      <td>0.0</td>\n",
       "      <td>1.0</td>\n",
       "      <td>1.0</td>\n",
       "      <td>0.0</td>\n",
       "      <td>0.0</td>\n",
       "      <td>0.0</td>\n",
       "      <td>3.0</td>\n",
       "      <td>26.0</td>\n",
       "      <td>7.9250</td>\n",
       "    </tr>\n",
       "    <tr>\n",
       "      <th>3</th>\n",
       "      <td>1.0</td>\n",
       "      <td>0.0</td>\n",
       "      <td>0.0</td>\n",
       "      <td>0.0</td>\n",
       "      <td>1.0</td>\n",
       "      <td>0.0</td>\n",
       "      <td>0.0</td>\n",
       "      <td>0.0</td>\n",
       "      <td>1.0</td>\n",
       "      <td>1.0</td>\n",
       "      <td>35.0</td>\n",
       "      <td>53.1000</td>\n",
       "    </tr>\n",
       "    <tr>\n",
       "      <th>4</th>\n",
       "      <td>0.0</td>\n",
       "      <td>1.0</td>\n",
       "      <td>0.0</td>\n",
       "      <td>0.0</td>\n",
       "      <td>1.0</td>\n",
       "      <td>1.0</td>\n",
       "      <td>0.0</td>\n",
       "      <td>0.0</td>\n",
       "      <td>0.0</td>\n",
       "      <td>3.0</td>\n",
       "      <td>35.0</td>\n",
       "      <td>8.0500</td>\n",
       "    </tr>\n",
       "  </tbody>\n",
       "</table>\n",
       "</div>"
      ],
      "text/plain": [
       "   Sex_female  Sex_male  Embarked_C  Embarked_Q  Embarked_S  FamilySize_Alone  \\\n",
       "0         0.0       1.0         0.0         0.0         1.0               0.0   \n",
       "1         1.0       0.0         1.0         0.0         0.0               0.0   \n",
       "2         1.0       0.0         0.0         0.0         1.0               1.0   \n",
       "3         1.0       0.0         0.0         0.0         1.0               0.0   \n",
       "4         0.0       1.0         0.0         0.0         1.0               1.0   \n",
       "\n",
       "   FamilySize_Large  FamilySize_Medium  FamilySize_Small  Pclass   Age  \\\n",
       "0               0.0                0.0               1.0     3.0  22.0   \n",
       "1               0.0                0.0               1.0     1.0  38.0   \n",
       "2               0.0                0.0               0.0     3.0  26.0   \n",
       "3               0.0                0.0               1.0     1.0  35.0   \n",
       "4               0.0                0.0               0.0     3.0  35.0   \n",
       "\n",
       "      Fare  \n",
       "0   7.2500  \n",
       "1  71.2833  \n",
       "2   7.9250  \n",
       "3  53.1000  \n",
       "4   8.0500  "
      ]
     },
     "execution_count": 20,
     "metadata": {},
     "output_type": "execute_result"
    }
   ],
   "source": [
    "clt = ColumnTransformer([('encoder',OneHotEncoder(sparse=False,handle_unknown='ignore'),[1,4,5])],\n",
    "                        remainder='passthrough',verbose_feature_names_out=False)\n",
    "X = clt.fit_transform(X) # 2D array\n",
    "X = pd.DataFrame(X,columns=clt.get_feature_names_out())\n",
    "X.head()"
   ]
  },
  {
   "cell_type": "markdown",
   "metadata": {},
   "source": [
    "### Feature Scaling"
   ]
  },
  {
   "cell_type": "code",
<<<<<<< HEAD:Data preprocessing/titanic/titanic.ipynb
   "execution_count": 21,
=======
   "execution_count": 23,
>>>>>>> 1eb53a088ae9dedf0072f19419315f1dce1bd26c:INTELSYS/notebook/titanic.ipynb
   "metadata": {},
   "outputs": [
    {
     "data": {
      "text/html": [
       "<div>\n",
       "<style scoped>\n",
       "    .dataframe tbody tr th:only-of-type {\n",
       "        vertical-align: middle;\n",
       "    }\n",
       "\n",
       "    .dataframe tbody tr th {\n",
       "        vertical-align: top;\n",
       "    }\n",
       "\n",
       "    .dataframe thead th {\n",
       "        text-align: right;\n",
       "    }\n",
       "</style>\n",
       "<table border=\"1\" class=\"dataframe\">\n",
       "  <thead>\n",
       "    <tr style=\"text-align: right;\">\n",
       "      <th></th>\n",
       "      <th>Sex_female</th>\n",
       "      <th>Sex_male</th>\n",
       "      <th>Embarked_C</th>\n",
       "      <th>Embarked_Q</th>\n",
       "      <th>Embarked_S</th>\n",
       "      <th>FamilySize_Alone</th>\n",
       "      <th>FamilySize_Large</th>\n",
       "      <th>FamilySize_Medium</th>\n",
       "      <th>FamilySize_Small</th>\n",
       "      <th>Pclass</th>\n",
       "      <th>Age</th>\n",
       "      <th>Fare</th>\n",
       "    </tr>\n",
       "  </thead>\n",
       "  <tbody>\n",
       "    <tr>\n",
       "      <th>0</th>\n",
       "      <td>0.0</td>\n",
       "      <td>1.0</td>\n",
       "      <td>0.0</td>\n",
       "      <td>0.0</td>\n",
       "      <td>1.0</td>\n",
       "      <td>0.0</td>\n",
       "      <td>0.0</td>\n",
       "      <td>0.0</td>\n",
       "      <td>1.0</td>\n",
       "      <td>0.825209</td>\n",
       "      <td>-0.590495</td>\n",
       "      <td>-0.500240</td>\n",
       "    </tr>\n",
       "    <tr>\n",
       "      <th>1</th>\n",
       "      <td>1.0</td>\n",
       "      <td>0.0</td>\n",
       "      <td>1.0</td>\n",
       "      <td>0.0</td>\n",
       "      <td>0.0</td>\n",
       "      <td>0.0</td>\n",
       "      <td>0.0</td>\n",
       "      <td>0.0</td>\n",
       "      <td>1.0</td>\n",
       "      <td>-1.572211</td>\n",
       "      <td>0.643971</td>\n",
       "      <td>0.788947</td>\n",
       "    </tr>\n",
       "    <tr>\n",
       "      <th>2</th>\n",
       "      <td>1.0</td>\n",
       "      <td>0.0</td>\n",
       "      <td>0.0</td>\n",
       "      <td>0.0</td>\n",
       "      <td>1.0</td>\n",
       "      <td>1.0</td>\n",
       "      <td>0.0</td>\n",
       "      <td>0.0</td>\n",
       "      <td>0.0</td>\n",
       "      <td>0.825209</td>\n",
       "      <td>-0.281878</td>\n",
       "      <td>-0.486650</td>\n",
       "    </tr>\n",
       "    <tr>\n",
       "      <th>3</th>\n",
       "      <td>1.0</td>\n",
       "      <td>0.0</td>\n",
       "      <td>0.0</td>\n",
       "      <td>0.0</td>\n",
       "      <td>1.0</td>\n",
       "      <td>0.0</td>\n",
       "      <td>0.0</td>\n",
       "      <td>0.0</td>\n",
       "      <td>1.0</td>\n",
       "      <td>-1.572211</td>\n",
       "      <td>0.412509</td>\n",
       "      <td>0.422861</td>\n",
       "    </tr>\n",
       "    <tr>\n",
       "      <th>4</th>\n",
       "      <td>0.0</td>\n",
       "      <td>1.0</td>\n",
       "      <td>0.0</td>\n",
       "      <td>0.0</td>\n",
       "      <td>1.0</td>\n",
       "      <td>1.0</td>\n",
       "      <td>0.0</td>\n",
       "      <td>0.0</td>\n",
       "      <td>0.0</td>\n",
       "      <td>0.825209</td>\n",
       "      <td>0.412509</td>\n",
       "      <td>-0.484133</td>\n",
       "    </tr>\n",
       "  </tbody>\n",
       "</table>\n",
       "</div>"
      ],
      "text/plain": [
       "   Sex_female  Sex_male  Embarked_C  Embarked_Q  Embarked_S  FamilySize_Alone  \\\n",
       "0         0.0       1.0         0.0         0.0         1.0               0.0   \n",
       "1         1.0       0.0         1.0         0.0         0.0               0.0   \n",
       "2         1.0       0.0         0.0         0.0         1.0               1.0   \n",
       "3         1.0       0.0         0.0         0.0         1.0               0.0   \n",
       "4         0.0       1.0         0.0         0.0         1.0               1.0   \n",
       "\n",
       "   FamilySize_Large  FamilySize_Medium  FamilySize_Small    Pclass       Age  \\\n",
       "0               0.0                0.0               1.0  0.825209 -0.590495   \n",
       "1               0.0                0.0               1.0 -1.572211  0.643971   \n",
       "2               0.0                0.0               0.0  0.825209 -0.281878   \n",
       "3               0.0                0.0               1.0 -1.572211  0.412509   \n",
       "4               0.0                0.0               0.0  0.825209  0.412509   \n",
       "\n",
       "       Fare  \n",
       "0 -0.500240  \n",
       "1  0.788947  \n",
       "2 -0.486650  \n",
       "3  0.422861  \n",
       "4 -0.484133  "
      ]
     },
<<<<<<< HEAD:Data preprocessing/titanic/titanic.ipynb
     "execution_count": 21,
=======
     "execution_count": 23,
>>>>>>> 1eb53a088ae9dedf0072f19419315f1dce1bd26c:INTELSYS/notebook/titanic.ipynb
     "metadata": {},
     "output_type": "execute_result"
    }
   ],
   "source": [
    "num_col = ['Pclass', 'Age', 'Fare']\n",
    "\n",
    "cat_col = ['Sex_female', 'Sex_male', 'Embarked_C', 'Embarked_Q', 'Embarked_S', 'FamilySize_Alone',\n",
    "                'FamilySize_Large', 'FamilySize_Medium', 'FamilySize_Small'] \n",
    "\n",
    "scaler = StandardScaler()\n",
    "X_scaled = scaler.fit_transform(X[num_col])\n",
    "\n",
    "# for view\n",
    "X_df = pd.DataFrame(X_scaled,columns=num_col)\n",
    "X_df = pd.concat([X[cat_col],X_df],axis=1)\n",
    "X_df.head()"
   ]
  },
  {
   "cell_type": "markdown",
   "metadata": {},
   "source": [
    "### Split into training and testing"
   ]
  },
  {
   "cell_type": "code",
<<<<<<< HEAD:Data preprocessing/titanic/titanic.ipynb
   "execution_count": 22,
=======
   "execution_count": 24,
>>>>>>> 1eb53a088ae9dedf0072f19419315f1dce1bd26c:INTELSYS/notebook/titanic.ipynb
   "metadata": {},
   "outputs": [],
   "source": [
    "X_train, X_test, y_train, y_test = train_test_split(X_scaled, y, test_size=0.2, random_state=1)"
   ]
  },
  {
   "cell_type": "code",
<<<<<<< HEAD:Data preprocessing/titanic/titanic.ipynb
   "execution_count": 23,
=======
   "execution_count": 25,
>>>>>>> 1eb53a088ae9dedf0072f19419315f1dce1bd26c:INTELSYS/notebook/titanic.ipynb
   "metadata": {},
   "outputs": [
    {
     "name": "stdout",
     "output_type": "stream",
     "text": [
      "(711, 3)\n"
     ]
    }
   ],
   "source": [
    "print(np.shape(X_train))"
   ]
  },
  {
   "cell_type": "markdown",
   "metadata": {},
   "source": [
    "## Build Model"
   ]
  },
  {
   "cell_type": "code",
<<<<<<< HEAD:Data preprocessing/titanic/titanic.ipynb
   "execution_count": 24,
=======
   "execution_count": 26,
>>>>>>> 1eb53a088ae9dedf0072f19419315f1dce1bd26c:INTELSYS/notebook/titanic.ipynb
   "metadata": {},
   "outputs": [],
   "source": [
    "log_regress = LogisticRegression().fit(X_train, y_train)"
   ]
  },
  {
   "cell_type": "code",
<<<<<<< HEAD:Data preprocessing/titanic/titanic.ipynb
   "execution_count": 25,
=======
   "execution_count": 27,
>>>>>>> 1eb53a088ae9dedf0072f19419315f1dce1bd26c:INTELSYS/notebook/titanic.ipynb
   "metadata": {},
   "outputs": [
    {
     "data": {
      "image/png": "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",
      "text/plain": [
       "<Figure size 432x288 with 2 Axes>"
      ]
     },
     "metadata": {
      "needs_background": "light"
     },
     "output_type": "display_data"
    }
   ],
   "source": [
    "y_pred = log_regress.predict(X_test)\n",
    "# Generate the confusion matrix\n",
    "cf_matrix = confusion_matrix(y_test, y_pred)\n",
    "\n",
    "ax = sns.heatmap(cf_matrix, annot=True, cmap='Blues')\n",
    "\n",
    "ax.set_title('Confusion Matrix\\n\\n')\n",
    "ax.set_xlabel('\\nPredicted Values')\n",
    "ax.set_ylabel('Actual Values')\n",
    "\n",
    "## Ticket labels - List must be in alphabetical order\n",
    "ax.xaxis.set_ticklabels(['False','True'])\n",
    "ax.yaxis.set_ticklabels(['False','True'])\n",
    "\n",
    "## Display the visualization of the Confusion Matrix.\n",
    "plt.show()"
   ]
  },
  {
   "cell_type": "code",
<<<<<<< HEAD:Data preprocessing/titanic/titanic.ipynb
   "execution_count": 26,
=======
   "execution_count": 28,
>>>>>>> 1eb53a088ae9dedf0072f19419315f1dce1bd26c:INTELSYS/notebook/titanic.ipynb
   "metadata": {},
   "outputs": [
    {
     "name": "stdout",
     "output_type": "stream",
     "text": [
      "accuracy score: 0.6910112359550562\n"
     ]
    }
   ],
   "source": [
    "score =accuracy_score(y_test,y_pred)\n",
    "print(f'accuracy score: {score}')"
   ]
<<<<<<< HEAD:Data preprocessing/titanic/titanic.ipynb
=======
  },
  {
   "cell_type": "code",
   "execution_count": null,
   "metadata": {},
   "outputs": [],
   "source": [
    "# Confusion matrix\n",
    "# \n",
    "#                  | Actually positive | Actually negative |\n",
    "# -----------------|-------------------|-------------------|\n",
    "# Predict positive |         TP        |        FP         |\n",
    "# -----------------|-------------------|-------------------|\n",
    "# Predict negative |         FN        |        TN         |\n",
    "# -----------------|-------------------|-------------------|\n",
    "# \n",
    "# accuracy = (TP + TN)/(TP+TN+FN+FP)\n",
    "# precision = TP/(TP+FP)\n",
    "# recall = TP/(TP+FN)\n",
    "# F1-score = (2PR)/(P+R)"
   ]
>>>>>>> 1eb53a088ae9dedf0072f19419315f1dce1bd26c:INTELSYS/notebook/titanic.ipynb
  }
 ],
 "metadata": {
  "kernelspec": {
   "display_name": "Python 3.7.9 ('learnML')",
   "language": "python",
   "name": "python3"
  },
  "language_info": {
   "codemirror_mode": {
    "name": "ipython",
    "version": 3
   },
   "file_extension": ".py",
   "mimetype": "text/x-python",
   "name": "python",
   "nbconvert_exporter": "python",
   "pygments_lexer": "ipython3",
   "version": "3.7.9"
  },
  "orig_nbformat": 4,
  "vscode": {
   "interpreter": {
    "hash": "2b9104dd1cf902b1f5882cd0ef476d24738f39ccfeed87167d531edf858cb62e"
   }
  }
 },
 "nbformat": 4,
 "nbformat_minor": 2
}
