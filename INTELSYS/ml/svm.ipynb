{
 "cells": [
  {
   "cell_type": "code",
   "execution_count": null,
   "metadata": {},
   "outputs": [],
   "source": []
  }
 ],
 "metadata": {
  "kernelspec": {
   "display_name": "Python 3.7.9 64-bit",
   "language": "python",
   "name": "python3"
  },
  "language_info": {
   "name": "python",
   "version": "3.7.9"
  },
  "orig_nbformat": 4,
  "vscode": {
   "interpreter": {
    "hash": "3aad08872aef376e5bbb3d5d951a03e8326d3ebaef0d9516aed5cc030fcec666"
   }
  }
 },
 "nbformat": 4,
 "nbformat_minor": 2
}
