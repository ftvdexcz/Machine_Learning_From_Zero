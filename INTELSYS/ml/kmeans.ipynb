{
 "cells": [
  {
   "cell_type": "code",
   "execution_count": null,
   "metadata": {},
   "outputs": [],
   "source": []
  }
 ],
 "metadata": {
  "kernelspec": {
   "display_name": "Python 3.9.12 ('base')",
   "language": "python",
   "name": "python3"
  },
  "language_info": {
   "name": "python",
   "version": "3.9.12"
  },
  "orig_nbformat": 4,
  "vscode": {
   "interpreter": {
    "hash": "e5e21ed83f7f12af34592854fe962e43a5820f4c7d7f6ec0d5f479e7583f6797"
   }
  }
 },
 "nbformat": 4,
 "nbformat_minor": 2
}
