{
 "cells": [
  {
   "cell_type": "markdown",
   "metadata": {},
   "source": [
    "Linear Regression sử dụng Gradient Descent"
   ]
  },
  {
   "cell_type": "code",
   "execution_count": 1,
   "metadata": {},
   "outputs": [],
   "source": [
    "import numpy as np\n",
    "import pandas as pd\n",
    "import matplotlib.pyplot as plt"
   ]
  },
  {
   "cell_type": "code",
   "execution_count": 84,
   "metadata": {},
   "outputs": [
    {
     "name": "stdout",
     "output_type": "stream",
     "text": [
      "[[ 36]\n",
      " [ 63]\n",
      " [ 67]\n",
      " [ 69]\n",
      " [ 54]\n",
      " [102]\n",
      " [131]\n",
      " [136]\n",
      " [ 71]\n",
      " [ 40]\n",
      " [ 94]\n",
      " [149]\n",
      " [109]\n",
      " [108]\n",
      " [121]\n",
      " [ 26]\n",
      " [140]\n",
      " [ 63]\n",
      " [ 78]\n",
      " [ 93]]\n"
     ]
    }
   ],
   "source": [
    "# n: số lượng dữ liệu \n",
    "n = 20\n",
    "X = np.random.randint(low=20, high=150, size=n).reshape(-1, 1)\n",
    "print(X)"
   ]
  },
  {
   "cell_type": "code",
   "execution_count": 85,
   "metadata": {},
   "outputs": [
    {
     "name": "stdout",
     "output_type": "stream",
     "text": [
      "[[ 0.4771502 ]\n",
      " [ 0.79434559]\n",
      " [ 2.08719681]\n",
      " [ 1.46396775]\n",
      " [ 0.07200842]\n",
      " [ 0.31658937]\n",
      " [ 0.21705819]\n",
      " [-0.45464937]\n",
      " [ 0.25912894]\n",
      " [-0.75131197]\n",
      " [ 1.31728774]\n",
      " [ 0.64688904]\n",
      " [-0.5476105 ]\n",
      " [ 1.23106147]\n",
      " [ 1.85664935]\n",
      " [-0.60890175]\n",
      " [ 0.41232734]\n",
      " [ 1.46694272]\n",
      " [-1.09657999]\n",
      " [-0.2311826 ]]\n"
     ]
    }
   ],
   "source": [
    "noise = np.random.normal(0, 1, n).reshape(-1, 1)\n",
    "print(noise)"
   ]
  },
  {
   "cell_type": "code",
   "execution_count": 86,
   "metadata": {},
   "outputs": [
    {
     "name": "stdout",
     "output_type": "stream",
     "text": [
      "[[ 559.92875505]\n",
      " [ 972.85863963]\n",
      " [1065.17992021]\n",
      " [1079.59919369]\n",
      " [ 819.80021039]\n",
      " [1545.91473437]\n",
      " [1978.42645466]\n",
      " [2036.63376572]\n",
      " [1079.47822361]\n",
      " [ 589.21720064]\n",
      " [1450.93219347]\n",
      " [2259.17222588]\n",
      " [1629.30973749]\n",
      " [1658.77653683]\n",
      " [1869.41623371]\n",
      " [ 382.77745623]\n",
      " [2118.30818355]\n",
      " [ 989.6735681 ]\n",
      " [1150.58550025]\n",
      " [1397.22043505]]\n"
     ]
    }
   ],
   "source": [
    "y = 15*X + 8 + 25*noise\n",
    "print(y)"
   ]
  },
  {
   "cell_type": "code",
   "execution_count": 87,
   "metadata": {},
   "outputs": [
    {
     "name": "stdout",
     "output_type": "stream",
     "text": [
      "[[  1  36]\n",
      " [  1  63]\n",
      " [  1  67]\n",
      " [  1  69]\n",
      " [  1  54]\n",
      " [  1 102]\n",
      " [  1 131]\n",
      " [  1 136]\n",
      " [  1  71]\n",
      " [  1  40]\n",
      " [  1  94]\n",
      " [  1 149]\n",
      " [  1 109]\n",
      " [  1 108]\n",
      " [  1 121]\n",
      " [  1  26]\n",
      " [  1 140]\n",
      " [  1  63]\n",
      " [  1  78]\n",
      " [  1  93]]\n"
     ]
    }
   ],
   "source": [
    "one = np.ones(n, dtype=int).reshape(-1,1)\n",
    "X = np.concatenate((one, X), axis=1)\n",
    "print(X)"
   ]
  },
  {
   "cell_type": "code",
   "execution_count": 88,
   "metadata": {},
   "outputs": [
    {
     "data": {
      "image/png": "[encoded data removed]",
      "text/plain": [
       "<Figure size 432x288 with 1 Axes>"
      ]
     },
     "metadata": {
      "needs_background": "light"
     },
     "output_type": "display_data"
    }
   ],
   "source": [
    "plt.scatter(X[:, 1], y, c='red')\n",
    "plt.xlabel('Mét vuông (m)')\n",
    "plt.ylabel('Giá nhà ($)')\n",
    "plt.show()"
   ]
  },
  {
   "cell_type": "code",
   "execution_count": 16,
   "metadata": {},
   "outputs": [],
   "source": [
    "def predict(w, X): \n",
    "  return np.dot(X, w)"
   ]
  },
  {
   "cell_type": "code",
   "execution_count": 106,
   "metadata": {},
   "outputs": [
    {
     "name": "stdout",
     "output_type": "stream",
     "text": [
      "[[0.]\n",
      " [1.]]\n"
     ]
    }
   ],
   "source": [
    "# khởi tạo giá trị tham số cho gradient descent\n",
    "w = np.array([[0.], [1.]])\n",
    "print(w)"
   ]
  },
  {
   "cell_type": "code",
   "execution_count": 91,
   "metadata": {},
   "outputs": [
    {
     "data": {
      "image/png": "[encoded data removed]",
      "text/plain": [
       "<Figure size 432x288 with 1 Axes>"
      ]
     },
     "metadata": {
      "needs_background": "light"
     },
     "output_type": "display_data"
    }
   ],
   "source": [
    "y_pred = predict(w, X)\n",
    "plt.plot(X[:, 1], y_pred)\n",
    "plt.scatter(X[:, 1], y, c='red')\n",
    "plt.xlabel('Mét vuông (m)')\n",
    "plt.ylabel('Giá nhà ($)')\n",
    "plt.show()"
   ]
  },
  {
   "cell_type": "code",
   "execution_count": 92,
   "metadata": {},
   "outputs": [
    {
     "name": "stdout",
     "output_type": "stream",
     "text": [
      "[[ 36.]\n",
      " [ 63.]\n",
      " [ 67.]\n",
      " [ 69.]\n",
      " [ 54.]\n",
      " [102.]\n",
      " [131.]\n",
      " [136.]\n",
      " [ 71.]\n",
      " [ 40.]\n",
      " [ 94.]\n",
      " [149.]\n",
      " [109.]\n",
      " [108.]\n",
      " [121.]\n",
      " [ 26.]\n",
      " [140.]\n",
      " [ 63.]\n",
      " [ 78.]\n",
      " [ 93.]]\n"
     ]
    }
   ],
   "source": [
    "print(y_pred)"
   ]
  },
  {
   "cell_type": "code",
   "execution_count": 28,
   "metadata": {},
   "outputs": [],
   "source": [
    "def MSELoss(y_pred, y):\n",
    "  return 0.5* np.sum((y_pred-y)**2)\n",
    "\n",
    "def gradient_descent(lr, epochs, w, threshold):\n",
    "  history = []\n",
    "  for i in range(epochs):\n",
    "    w = w - lr * np.dot(X.T, predict(w, X)-y)\n",
    "    loss = MSELoss(predict(w, X), y)\n",
    "    print(f'epochs {i + 1}: w = {w}, loss = {loss}')\n",
    "    history.append(loss)\n",
    "    if loss <= threshold: return w\n",
    "  \n",
    "  return w, np.array(history)"
   ]
  },
  {
   "cell_type": "code",
   "execution_count": 108,
   "metadata": {},
   "outputs": [
    {
     "name": "stdout",
     "output_type": "stream",
     "text": [
      "epochs 1: w = [[0.02488321]\n",
      " [3.53179139]], loss = 12138014.734061336\n",
      "epochs 2: w = [[0.04533529]\n",
      " [5.61203474]], loss = 8196120.871623295\n",
      "epochs 3: w = [[0.06214653]\n",
      " [7.32126419]], loss = 5534921.540482368\n",
      "epochs 4: w = [[0.07596628]\n",
      " [8.72565049]], loss = 3738327.7894033706\n",
      "epochs 5: w = [[0.08732808]\n",
      " [9.87956278]], loss = 2525435.140192199\n",
      "epochs 6: w = [[ 0.09667031]\n",
      " [10.82767339]], loss = 1706603.0709478038\n",
      "epochs 7: w = [[ 0.10435316]\n",
      " [11.6066873 ]], loss = 1153803.9767772069\n",
      "epochs 8: w = [[ 0.11067258]\n",
      " [12.24676309]], loss = 780605.5517031836\n",
      "epochs 9: w = [[ 0.11587174]\n",
      " [12.77268055]], loss = 528656.7586756728\n",
      "epochs 10: w = [[ 0.12015044]\n",
      " [13.20479995]], loss = 358564.41610219533\n",
      "epochs 11: w = [[ 0.12367284]\n",
      " [13.55985028]], loss = 243733.91942333768\n",
      "epochs 12: w = [[ 0.12657384]\n",
      " [13.8515769 ]], loss = 166211.07039768057\n",
      "epochs 13: w = [[ 0.12896426]\n",
      " [14.09127366]], loss = 113874.86779837654\n",
      "epochs 14: w = [[ 0.13093516]\n",
      " [14.28822016]], loss = 78542.34133815882\n",
      "epochs 15: w = [[ 0.13256137]\n",
      " [14.45004096]], loss = 54689.112174958354\n",
      "epochs 16: w = [[ 0.13390435]\n",
      " [14.58300076]], loss = 38585.63461578933\n",
      "epochs 17: w = [[ 0.13501463]\n",
      " [14.69224695]], loss = 27714.06702203282\n",
      "epochs 18: w = [[ 0.13593371]\n",
      " [14.7820089 ]], loss = 20374.597395384288\n",
      "epochs 19: w = [[ 0.13669568]\n",
      " [14.85576162]], loss = 15419.671106011829\n",
      "epochs 20: w = [[ 0.13732858]\n",
      " [14.9163604 ]], loss = 12074.566225983157\n",
      "epochs 21: w = [[ 0.13785541]\n",
      " [14.96615124]], loss = 9816.26271771929\n",
      "epochs 22: w = [[ 0.1382951 ]\n",
      " [15.00706177]], loss = 8291.666200066546\n",
      "epochs 23: w = [[ 0.13866318]\n",
      " [15.04067578]], loss = 7262.400257124604\n",
      "epochs 24: w = [[ 0.13897243]\n",
      " [15.06829463]], loss = 6567.5353508138105\n",
      "epochs 25: w = [[ 0.13923335]\n",
      " [15.09098756]], loss = 6098.426856502662\n",
      "epochs 26: w = [[ 0.13945454]\n",
      " [15.10963311]], loss = 5781.728049890765\n",
      "epochs 27: w = [[ 0.13964311]\n",
      " [15.12495314]], loss = 5567.922059031142\n",
      "epochs 28: w = [[ 0.13980486]\n",
      " [15.13754076]], loss = 5423.579707218231\n",
      "epochs 29: w = [[ 0.13994457]\n",
      " [15.14788329]], loss = 5326.132730115643\n",
      "epochs 30: w = [[ 0.14006619]\n",
      " [15.15638116]], loss = 5260.345139124431\n",
      "epochs 31: w = [[ 0.14017293]\n",
      " [15.16336335]], loss = 5215.93101481689\n",
      "epochs 32: w = [[ 0.14026745]\n",
      " [15.16910019]], loss = 5185.946263097332\n",
      "epochs 33: w = [[ 0.14035193]\n",
      " [15.1738138 ]], loss = 5165.702878858387\n",
      "epochs 34: w = [[ 0.14042815]\n",
      " [15.17768666]], loss = 5152.035957998295\n",
      "epochs 35: w = [[ 0.1404976 ]\n",
      " [15.18086872]], loss = 5142.808852253319\n",
      "epochs 36: w = [[ 0.14056148]\n",
      " [15.18348319]], loss = 5136.579095862628\n",
      "epochs 37: w = [[ 0.14062078]\n",
      " [15.1856313 ]], loss = 5132.372870389859\n",
      "epochs 38: w = [[ 0.14067633]\n",
      " [15.18739623]], loss = 5129.532744391876\n",
      "epochs 39: w = [[ 0.14072878]\n",
      " [15.18884631]], loss = 5127.6148814342505\n",
      "epochs 40: w = [[ 0.14077869]\n",
      " [15.19003771]], loss = 5126.319644524399\n",
      "epochs 41: w = [[ 0.14082652]\n",
      " [15.19101654]], loss = 5125.444746692677\n",
      "epochs 42: w = [[ 0.14087263]\n",
      " [15.19182074]], loss = 5124.853622631367\n",
      "epochs 43: w = [[ 0.14091734]\n",
      " [15.19248144]], loss = 5124.454076173314\n",
      "epochs 44: w = [[ 0.14096089]\n",
      " [15.19302423]], loss = 5124.1838650596055\n",
      "epochs 45: w = [[ 0.14100348]\n",
      " [15.19347015]], loss = 5124.00096911838\n",
      "epochs 46: w = [[ 0.1410453 ]\n",
      " [15.19383648]], loss = 5123.877020246049\n",
      "epochs 47: w = [[ 0.14108647]\n",
      " [15.1941374 ]], loss = 5123.7928669431585\n",
      "epochs 48: w = [[ 0.14112712]\n",
      " [15.19438458]], loss = 5123.735579902254\n",
      "epochs 49: w = [[ 0.14116734]\n",
      " [15.19458762]], loss = 5123.696430460054\n",
      "epochs 50: w = [[ 0.14120719]\n",
      " [15.19475437]], loss = 5123.6695258366635\n"
     ]
    }
   ],
   "source": [
    "learning_rate = 0.000001\n",
    "epochs = 50\n",
    "threshold = 1e-6\n",
    "\n",
    "w, history = gradient_descent(learning_rate, epochs, w, threshold)"
   ]
  },
  {
   "cell_type": "code",
   "execution_count": 109,
   "metadata": {},
   "outputs": [
    {
     "name": "stdout",
     "output_type": "stream",
     "text": [
      "[[ 0.14120719]\n",
      " [15.19475437]]\n"
     ]
    }
   ],
   "source": [
    "print(w)"
   ]
  },
  {
   "cell_type": "code",
   "execution_count": 110,
   "metadata": {},
   "outputs": [
    {
     "data": {
      "image/png": "[encoded data removed]",
      "text/plain": [
       "<Figure size 432x288 with 1 Axes>"
      ]
     },
     "metadata": {
      "needs_background": "light"
     },
     "output_type": "display_data"
    }
   ],
   "source": [
    "y_pred = predict(w, X)\n",
    "plt.plot(X[:, 1], y_pred)\n",
    "plt.scatter(X[:, 1], y, c='red')\n",
    "plt.xlabel('Mét vuông (m)')\n",
    "plt.ylabel('Giá nhà ($)')\n",
    "plt.show()"
   ]
  },
  {
   "cell_type": "code",
   "execution_count": 111,
   "metadata": {},
   "outputs": [
    {
     "data": {
      "image/png": "[encoded data removed]",
      "text/plain": [
       "<Figure size 432x288 with 1 Axes>"
      ]
     },
     "metadata": {
      "needs_background": "light"
     },
     "output_type": "display_data"
    }
   ],
   "source": [
    "plt.plot(history)\n",
    "plt.show()"
   ]
  },
  {
   "cell_type": "markdown",
   "metadata": {},
   "source": [
    "Giả sử dữ liệu có dạng hàm bậc 2 như dưới đây: sử dụng poly regression"
   ]
  },
  {
   "cell_type": "code",
   "execution_count": 4,
   "metadata": {},
   "outputs": [],
   "source": [
    "data = pd.read_csv('data\\data_square.csv')"
   ]
  },
  {
   "cell_type": "code",
   "execution_count": 5,
   "metadata": {},
   "outputs": [
    {
     "name": "stdout",
     "output_type": "stream",
     "text": [
      "   Diện tích  Giá nhà\n",
      "0    30.0000 -100.000\n",
      "1    32.4138 -190.725\n",
      "2    34.8276 -269.798\n",
      "3    37.2414 -337.218\n",
      "4    39.6552 -392.985\n"
     ]
    }
   ],
   "source": [
    "print(data.head())"
   ]
  },
  {
   "cell_type": "code",
   "execution_count": 12,
   "metadata": {},
   "outputs": [
    {
     "name": "stdout",
     "output_type": "stream",
     "text": [
      "[[ 30.    ]\n",
      " [ 32.4138]\n",
      " [ 34.8276]\n",
      " [ 37.2414]\n",
      " [ 39.6552]\n",
      " [ 42.069 ]\n",
      " [ 44.4828]\n",
      " [ 46.8966]\n",
      " [ 49.3103]\n",
      " [ 51.7241]\n",
      " [ 54.1379]\n",
      " [ 56.5517]\n",
      " [ 58.9655]\n",
      " [ 61.3793]\n",
      " [ 63.7931]\n",
      " [ 66.2069]\n",
      " [ 68.6207]\n",
      " [ 71.0345]\n",
      " [ 73.4483]\n",
      " [ 75.8621]\n",
      " [ 78.2759]\n",
      " [ 80.6897]\n",
      " [ 83.1034]\n",
      " [ 85.5172]\n",
      " [ 87.931 ]\n",
      " [ 90.3448]\n",
      " [ 92.7586]\n",
      " [ 95.1724]\n",
      " [ 97.5862]\n",
      " [100.    ]]\n"
     ]
    }
   ],
   "source": [
    "X = data.iloc[:, 0].values.reshape(-1, 1)\n",
    "print(X)"
   ]
  },
  {
   "cell_type": "code",
   "execution_count": 13,
   "metadata": {},
   "outputs": [
    {
     "name": "stdout",
     "output_type": "stream",
     "text": [
      "[[-100.    ]\n",
      " [-190.725 ]\n",
      " [-269.798 ]\n",
      " [-337.218 ]\n",
      " [-392.985 ]\n",
      " [-437.099 ]\n",
      " [-469.56  ]\n",
      " [-490.369 ]\n",
      " [-499.524 ]\n",
      " [-497.027 ]\n",
      " [-482.878 ]\n",
      " [-457.075 ]\n",
      " [-419.62  ]\n",
      " [-370.511 ]\n",
      " [-309.75  ]\n",
      " [-237.337 ]\n",
      " [-153.27  ]\n",
      " [ -57.5505]\n",
      " [  49.8216]\n",
      " [ 168.847 ]\n",
      " [ 299.524 ]\n",
      " [ 441.855 ]\n",
      " [ 595.838 ]\n",
      " [ 761.474 ]\n",
      " [ 938.763 ]\n",
      " [1127.71  ]\n",
      " [1328.3   ]\n",
      " [1540.55  ]\n",
      " [1764.45  ]\n",
      " [2000.    ]]\n"
     ]
    }
   ],
   "source": [
    "y = data.iloc[:, -1].values.reshape(-1, 1)\n",
    "print(y)"
   ]
  },
  {
   "cell_type": "code",
   "execution_count": 14,
   "metadata": {},
   "outputs": [
    {
     "data": {
      "image/png": "[encoded data removed]",
      "text/plain": [
       "<Figure size 432x288 with 1 Axes>"
      ]
     },
     "metadata": {
      "needs_background": "light"
     },
     "output_type": "display_data"
    }
   ],
   "source": [
    "plt.scatter(X, y, color='red')\n",
    "plt.xlabel('Diện tích')\n",
    "plt.ylabel('Giá')\n",
    "plt.show()"
   ]
  },
  {
   "cell_type": "markdown",
   "metadata": {},
   "source": [
    "=> công thức giá nhà dự đoán theo diện tích: giá = w0 + w1 * diện tích + w2 * diện tích ** 2"
   ]
  },
  {
   "cell_type": "code",
   "execution_count": 100,
   "metadata": {},
   "outputs": [
    {
     "name": "stdout",
     "output_type": "stream",
     "text": [
      "[[ 1.e+03]\n",
      " [-5.e+01]\n",
      " [ 5.e-01]]\n"
     ]
    }
   ],
   "source": [
    "# khởi tạo giá trị cho tham số \n",
    "w = np.array([1000., -50., 0.5]).reshape(-1, 1)\n",
    "print(w)"
   ]
  },
  {
   "cell_type": "code",
   "execution_count": 23,
   "metadata": {},
   "outputs": [
    {
     "name": "stdout",
     "output_type": "stream",
     "text": [
      "[[1.00000000e+00 3.00000000e+01 9.00000000e+02]\n",
      " [1.00000000e+00 3.24138000e+01 1.05065443e+03]\n",
      " [1.00000000e+00 3.48276000e+01 1.21296172e+03]\n",
      " [1.00000000e+00 3.72414000e+01 1.38692187e+03]\n",
      " [1.00000000e+00 3.96552000e+01 1.57253489e+03]\n",
      " [1.00000000e+00 4.20690000e+01 1.76980076e+03]\n",
      " [1.00000000e+00 4.44828000e+01 1.97871950e+03]\n",
      " [1.00000000e+00 4.68966000e+01 2.19929109e+03]\n",
      " [1.00000000e+00 4.93103000e+01 2.43150569e+03]\n",
      " [1.00000000e+00 5.17241000e+01 2.67538252e+03]\n",
      " [1.00000000e+00 5.41379000e+01 2.93091222e+03]\n",
      " [1.00000000e+00 5.65517000e+01 3.19809477e+03]\n",
      " [1.00000000e+00 5.89655000e+01 3.47693019e+03]\n",
      " [1.00000000e+00 6.13793000e+01 3.76741847e+03]\n",
      " [1.00000000e+00 6.37931000e+01 4.06955961e+03]\n",
      " [1.00000000e+00 6.62069000e+01 4.38335361e+03]\n",
      " [1.00000000e+00 6.86207000e+01 4.70880047e+03]\n",
      " [1.00000000e+00 7.10345000e+01 5.04590019e+03]\n",
      " [1.00000000e+00 7.34483000e+01 5.39465277e+03]\n",
      " [1.00000000e+00 7.58621000e+01 5.75505822e+03]\n",
      " [1.00000000e+00 7.82759000e+01 6.12711652e+03]\n",
      " [1.00000000e+00 8.06897000e+01 6.51082769e+03]\n",
      " [1.00000000e+00 8.31034000e+01 6.90617509e+03]\n",
      " [1.00000000e+00 8.55172000e+01 7.31319150e+03]\n",
      " [1.00000000e+00 8.79310000e+01 7.73186076e+03]\n",
      " [1.00000000e+00 9.03448000e+01 8.16218289e+03]\n",
      " [1.00000000e+00 9.27586000e+01 8.60415787e+03]\n",
      " [1.00000000e+00 9.51724000e+01 9.05778572e+03]\n",
      " [1.00000000e+00 9.75862000e+01 9.52306643e+03]\n",
      " [1.00000000e+00 1.00000000e+02 1.00000000e+04]]\n"
     ]
    }
   ],
   "source": [
    "one = np.ones((np.shape(X)[0], 1))\n",
    "X_square = np.array(X**2)\n",
    "X = np.concatenate((one, X, X_square), axis=1)\n",
    "print(X)"
   ]
  },
  {
   "cell_type": "code",
   "execution_count": 101,
   "metadata": {},
   "outputs": [
    {
     "data": {
      "image/png": "[encoded data removed]",
      "text/plain": [
       "<Figure size 432x288 with 1 Axes>"
      ]
     },
     "metadata": {
      "needs_background": "light"
     },
     "output_type": "display_data"
    }
   ],
   "source": [
    "plt.scatter(X[:,1], y, color='red')\n",
    "plt.plot(X[:, 1], predict(w, X))\n",
    "plt.xlabel('Diện tích')\n",
    "plt.ylabel('Giá')\n",
    "plt.show()"
   ]
  },
  {
   "cell_type": "code",
   "execution_count": 102,
   "metadata": {},
   "outputs": [
    {
     "name": "stdout",
     "output_type": "stream",
     "text": [
      "epochs 1: w = [[ 1.00000000e+03]\n",
      " [-4.99996461e+01]\n",
      " [ 5.39105788e-01]], loss = 1282567.5968913764\n",
      "epochs 2: w = [[ 9.99999999e+02]\n",
      " [-4.99997143e+01]\n",
      " [ 5.43882824e-01]], loss = 1269754.4504900961\n",
      "epochs 3: w = [[ 9.99999996e+02]\n",
      " [-4.99998341e+01]\n",
      " [ 5.44467575e-01]], loss = 1269547.4728285458\n",
      "epochs 4: w = [[ 9.99999992e+02]\n",
      " [-4.99999601e+01]\n",
      " [ 5.44540356e-01]], loss = 1269528.5001831811\n",
      "epochs 5: w = [[ 9.99999988e+02]\n",
      " [-5.00000869e+01]\n",
      " [ 5.44550615e-01]], loss = 1269512.331618125\n",
      "epochs 6: w = [[ 9.99999984e+02]\n",
      " [-5.00002139e+01]\n",
      " [ 5.44553238e-01]], loss = 1269496.205099677\n",
      "epochs 7: w = [[ 9.99999980e+02]\n",
      " [-5.00003408e+01]\n",
      " [ 5.44554929e-01]], loss = 1269480.0794356558\n",
      "epochs 8: w = [[ 9.99999977e+02]\n",
      " [-5.00004677e+01]\n",
      " [ 5.44556506e-01]], loss = 1269463.95401173\n",
      "epochs 9: w = [[ 9.99999973e+02]\n",
      " [-5.00005946e+01]\n",
      " [ 5.44558069e-01]], loss = 1269447.8288187338\n",
      "epochs 10: w = [[ 9.99999969e+02]\n",
      " [-5.00007215e+01]\n",
      " [ 5.44559630e-01]], loss = 1269431.7038565278\n",
      "epochs 11: w = [[ 9.99999965e+02]\n",
      " [-5.00008484e+01]\n",
      " [ 5.44561192e-01]], loss = 1269415.579125107\n",
      "epochs 12: w = [[ 9.99999961e+02]\n",
      " [-5.00009754e+01]\n",
      " [ 5.44562753e-01]], loss = 1269399.454624467\n",
      "epochs 13: w = [[ 9.99999958e+02]\n",
      " [-5.00011023e+01]\n",
      " [ 5.44564314e-01]], loss = 1269383.3303546046\n",
      "epochs 14: w = [[ 9.99999954e+02]\n",
      " [-5.00012292e+01]\n",
      " [ 5.44565875e-01]], loss = 1269367.2063155167\n",
      "epochs 15: w = [[ 9.99999950e+02]\n",
      " [-5.00013561e+01]\n",
      " [ 5.44567436e-01]], loss = 1269351.0825072008\n",
      "epochs 16: w = [[ 9.99999946e+02]\n",
      " [-5.00014830e+01]\n",
      " [ 5.44568997e-01]], loss = 1269334.9589296523\n",
      "epochs 17: w = [[ 9.99999942e+02]\n",
      " [-5.00016099e+01]\n",
      " [ 5.44570558e-01]], loss = 1269318.835582869\n",
      "epochs 18: w = [[ 9.99999939e+02]\n",
      " [-5.00017368e+01]\n",
      " [ 5.44572119e-01]], loss = 1269302.7124668467\n",
      "epochs 19: w = [[ 9.99999935e+02]\n",
      " [-5.00018637e+01]\n",
      " [ 5.44573680e-01]], loss = 1269286.589581584\n",
      "epochs 20: w = [[ 9.99999931e+02]\n",
      " [-5.00019907e+01]\n",
      " [ 5.44575241e-01]], loss = 1269270.466927076\n",
      "epochs 21: w = [[ 9.99999927e+02]\n",
      " [-5.00021176e+01]\n",
      " [ 5.44576802e-01]], loss = 1269254.3445033182\n",
      "epochs 22: w = [[ 9.99999923e+02]\n",
      " [-5.00022445e+01]\n",
      " [ 5.44578363e-01]], loss = 1269238.2223103081\n",
      "epochs 23: w = [[ 9.99999920e+02]\n",
      " [-5.00023714e+01]\n",
      " [ 5.44579924e-01]], loss = 1269222.1003480447\n",
      "epochs 24: w = [[ 9.99999916e+02]\n",
      " [-5.00024983e+01]\n",
      " [ 5.44581485e-01]], loss = 1269205.9786165222\n",
      "epochs 25: w = [[ 9.99999912e+02]\n",
      " [-5.00026252e+01]\n",
      " [ 5.44583046e-01]], loss = 1269189.857115739\n",
      "epochs 26: w = [[ 9.99999908e+02]\n",
      " [-5.00027521e+01]\n",
      " [ 5.44584607e-01]], loss = 1269173.7358456892\n",
      "epochs 27: w = [[ 9.99999904e+02]\n",
      " [-5.00028790e+01]\n",
      " [ 5.44586168e-01]], loss = 1269157.6148063722\n",
      "epochs 28: w = [[ 9.99999900e+02]\n",
      " [-5.00030059e+01]\n",
      " [ 5.44587729e-01]], loss = 1269141.4939977846\n",
      "epochs 29: w = [[ 9.99999897e+02]\n",
      " [-5.00031328e+01]\n",
      " [ 5.44589290e-01]], loss = 1269125.3734199188\n",
      "epochs 30: w = [[ 9.99999893e+02]\n",
      " [-5.00032597e+01]\n",
      " [ 5.44590851e-01]], loss = 1269109.2530727775\n",
      "epochs 31: w = [[ 9.99999889e+02]\n",
      " [-5.00033866e+01]\n",
      " [ 5.44592412e-01]], loss = 1269093.1329563537\n",
      "epochs 32: w = [[ 9.99999885e+02]\n",
      " [-5.00035135e+01]\n",
      " [ 5.44593972e-01]], loss = 1269077.0130706464\n",
      "epochs 33: w = [[ 9.99999881e+02]\n",
      " [-5.00036404e+01]\n",
      " [ 5.44595533e-01]], loss = 1269060.8934156504\n",
      "epochs 34: w = [[ 9.99999878e+02]\n",
      " [-5.00037673e+01]\n",
      " [ 5.44597094e-01]], loss = 1269044.7739913631\n",
      "epochs 35: w = [[ 9.99999874e+02]\n",
      " [-5.00038942e+01]\n",
      " [ 5.44598655e-01]], loss = 1269028.6547977803\n",
      "epochs 36: w = [[ 9.99999870e+02]\n",
      " [-5.00040211e+01]\n",
      " [ 5.44600216e-01]], loss = 1269012.5358349003\n",
      "epochs 37: w = [[ 9.99999866e+02]\n",
      " [-5.00041480e+01]\n",
      " [ 5.44601777e-01]], loss = 1268996.4171027178\n",
      "epochs 38: w = [[ 9.99999862e+02]\n",
      " [-5.00042749e+01]\n",
      " [ 5.44603337e-01]], loss = 1268980.2986012318\n",
      "epochs 39: w = [[ 9.99999859e+02]\n",
      " [-5.00044017e+01]\n",
      " [ 5.44604898e-01]], loss = 1268964.1803304378\n",
      "epochs 40: w = [[ 9.99999855e+02]\n",
      " [-5.00045286e+01]\n",
      " [ 5.44606459e-01]], loss = 1268948.0622903327\n",
      "epochs 41: w = [[ 9.99999851e+02]\n",
      " [-5.00046555e+01]\n",
      " [ 5.44608020e-01]], loss = 1268931.9444809128\n",
      "epochs 42: w = [[ 9.99999847e+02]\n",
      " [-5.00047824e+01]\n",
      " [ 5.44609581e-01]], loss = 1268915.8269021746\n",
      "epochs 43: w = [[ 9.99999843e+02]\n",
      " [-5.00049093e+01]\n",
      " [ 5.44611141e-01]], loss = 1268899.7095541158\n",
      "epochs 44: w = [[ 9.99999840e+02]\n",
      " [-5.00050362e+01]\n",
      " [ 5.44612702e-01]], loss = 1268883.592436733\n",
      "epochs 45: w = [[ 9.99999836e+02]\n",
      " [-5.00051631e+01]\n",
      " [ 5.44614263e-01]], loss = 1268867.4755500222\n",
      "epochs 46: w = [[ 9.99999832e+02]\n",
      " [-5.00052900e+01]\n",
      " [ 5.44615824e-01]], loss = 1268851.358893979\n",
      "epochs 47: w = [[ 9.99999828e+02]\n",
      " [-5.00054168e+01]\n",
      " [ 5.44617384e-01]], loss = 1268835.2424686048\n",
      "epochs 48: w = [[ 9.99999824e+02]\n",
      " [-5.00055437e+01]\n",
      " [ 5.44618945e-01]], loss = 1268819.12627389\n",
      "epochs 49: w = [[ 9.99999821e+02]\n",
      " [-5.00056706e+01]\n",
      " [ 5.44620506e-01]], loss = 1268803.010309835\n",
      "epochs 50: w = [[ 9.99999817e+02]\n",
      " [-5.00057975e+01]\n",
      " [ 5.44622066e-01]], loss = 1268786.8945764366\n",
      "epochs 51: w = [[ 9.99999813e+02]\n",
      " [-5.00059244e+01]\n",
      " [ 5.44623627e-01]], loss = 1268770.7790736891\n",
      "epochs 52: w = [[ 9.99999809e+02]\n",
      " [-5.00060512e+01]\n",
      " [ 5.44625188e-01]], loss = 1268754.6638015918\n",
      "epochs 53: w = [[ 9.99999805e+02]\n",
      " [-5.00061781e+01]\n",
      " [ 5.44626748e-01]], loss = 1268738.5487601408\n",
      "epochs 54: w = [[ 9.99999802e+02]\n",
      " [-5.00063050e+01]\n",
      " [ 5.44628309e-01]], loss = 1268722.4339493318\n",
      "epochs 55: w = [[ 9.99999798e+02]\n",
      " [-5.00064319e+01]\n",
      " [ 5.44629869e-01]], loss = 1268706.3193691627\n",
      "epochs 56: w = [[ 9.99999794e+02]\n",
      " [-5.00065588e+01]\n",
      " [ 5.44631430e-01]], loss = 1268690.2050196284\n",
      "epochs 57: w = [[ 9.99999790e+02]\n",
      " [-5.00066856e+01]\n",
      " [ 5.44632991e-01]], loss = 1268674.0909007264\n",
      "epochs 58: w = [[ 9.99999786e+02]\n",
      " [-5.00068125e+01]\n",
      " [ 5.44634551e-01]], loss = 1268657.977012455\n",
      "epochs 59: w = [[ 9.99999782e+02]\n",
      " [-5.00069394e+01]\n",
      " [ 5.44636112e-01]], loss = 1268641.86335481\n",
      "epochs 60: w = [[ 9.99999779e+02]\n",
      " [-5.00070662e+01]\n",
      " [ 5.44637672e-01]], loss = 1268625.7499277873\n",
      "epochs 61: w = [[ 9.99999775e+02]\n",
      " [-5.00071931e+01]\n",
      " [ 5.44639233e-01]], loss = 1268609.6367313853\n",
      "epochs 62: w = [[ 9.99999771e+02]\n",
      " [-5.00073200e+01]\n",
      " [ 5.44640794e-01]], loss = 1268593.5237655977\n",
      "epochs 63: w = [[ 9.99999767e+02]\n",
      " [-5.00074469e+01]\n",
      " [ 5.44642354e-01]], loss = 1268577.4110304236\n",
      "epochs 64: w = [[ 9.99999763e+02]\n",
      " [-5.00075737e+01]\n",
      " [ 5.44643915e-01]], loss = 1268561.2985258587\n",
      "epochs 65: w = [[ 9.99999760e+02]\n",
      " [-5.00077006e+01]\n",
      " [ 5.44645475e-01]], loss = 1268545.1862519002\n",
      "epochs 66: w = [[ 9.99999756e+02]\n",
      " [-5.00078275e+01]\n",
      " [ 5.44647036e-01]], loss = 1268529.074208545\n",
      "epochs 67: w = [[ 9.99999752e+02]\n",
      " [-5.00079543e+01]\n",
      " [ 5.44648596e-01]], loss = 1268512.9623957884\n",
      "epochs 68: w = [[ 9.99999748e+02]\n",
      " [-5.00080812e+01]\n",
      " [ 5.44650157e-01]], loss = 1268496.8508136289\n",
      "epochs 69: w = [[ 9.99999744e+02]\n",
      " [-5.00082081e+01]\n",
      " [ 5.44651717e-01]], loss = 1268480.7394620627\n",
      "epochs 70: w = [[ 9.99999741e+02]\n",
      " [-5.00083349e+01]\n",
      " [ 5.44653277e-01]], loss = 1268464.628341086\n",
      "epochs 71: w = [[ 9.99999737e+02]\n",
      " [-5.00084618e+01]\n",
      " [ 5.44654838e-01]], loss = 1268448.5174506952\n",
      "epochs 72: w = [[ 9.99999733e+02]\n",
      " [-5.00085886e+01]\n",
      " [ 5.44656398e-01]], loss = 1268432.4067908889\n",
      "epochs 73: w = [[ 9.99999729e+02]\n",
      " [-5.00087155e+01]\n",
      " [ 5.44657959e-01]], loss = 1268416.2963616604\n",
      "epochs 74: w = [[ 9.99999725e+02]\n",
      " [-5.00088424e+01]\n",
      " [ 5.44659519e-01]], loss = 1268400.186163011\n",
      "epochs 75: w = [[ 9.99999722e+02]\n",
      " [-5.00089692e+01]\n",
      " [ 5.44661080e-01]], loss = 1268384.0761949338\n",
      "epochs 76: w = [[ 9.99999718e+02]\n",
      " [-5.00090961e+01]\n",
      " [ 5.44662640e-01]], loss = 1268367.9664574268\n",
      "epochs 77: w = [[ 9.99999714e+02]\n",
      " [-5.00092229e+01]\n",
      " [ 5.44664200e-01]], loss = 1268351.8569504868\n",
      "epochs 78: w = [[ 9.99999710e+02]\n",
      " [-5.00093498e+01]\n",
      " [ 5.44665761e-01]], loss = 1268335.7476741085\n",
      "epochs 79: w = [[ 9.99999706e+02]\n",
      " [-5.00094766e+01]\n",
      " [ 5.44667321e-01]], loss = 1268319.6386282917\n",
      "epochs 80: w = [[ 9.99999703e+02]\n",
      " [-5.00096035e+01]\n",
      " [ 5.44668881e-01]], loss = 1268303.5298130317\n",
      "epochs 81: w = [[ 9.99999699e+02]\n",
      " [-5.00097304e+01]\n",
      " [ 5.44670442e-01]], loss = 1268287.421228325\n",
      "epochs 82: w = [[ 9.99999695e+02]\n",
      " [-5.00098572e+01]\n",
      " [ 5.44672002e-01]], loss = 1268271.3128741682\n",
      "epochs 83: w = [[ 9.99999691e+02]\n",
      " [-5.00099841e+01]\n",
      " [ 5.44673562e-01]], loss = 1268255.2047505584\n",
      "epochs 84: w = [[ 9.99999687e+02]\n",
      " [-5.00101109e+01]\n",
      " [ 5.44675123e-01]], loss = 1268239.0968574914\n",
      "epochs 85: w = [[ 9.99999684e+02]\n",
      " [-5.00102378e+01]\n",
      " [ 5.44676683e-01]], loss = 1268222.989194965\n",
      "epochs 86: w = [[ 9.99999680e+02]\n",
      " [-5.00103646e+01]\n",
      " [ 5.44678243e-01]], loss = 1268206.8817629744\n",
      "epochs 87: w = [[ 9.99999676e+02]\n",
      " [-5.00104915e+01]\n",
      " [ 5.44679803e-01]], loss = 1268190.774561521\n",
      "epochs 88: w = [[ 9.99999672e+02]\n",
      " [-5.00106183e+01]\n",
      " [ 5.44681364e-01]], loss = 1268174.6675905953\n",
      "epochs 89: w = [[ 9.99999668e+02]\n",
      " [-5.00107451e+01]\n",
      " [ 5.44682924e-01]], loss = 1268158.560850198\n",
      "epochs 90: w = [[ 9.99999665e+02]\n",
      " [-5.00108720e+01]\n",
      " [ 5.44684484e-01]], loss = 1268142.4543403243\n",
      "epochs 91: w = [[ 9.99999661e+02]\n",
      " [-5.00109988e+01]\n",
      " [ 5.44686044e-01]], loss = 1268126.3480609707\n",
      "epochs 92: w = [[ 9.99999657e+02]\n",
      " [-5.00111257e+01]\n",
      " [ 5.44687605e-01]], loss = 1268110.2420121331\n",
      "epochs 93: w = [[ 9.99999653e+02]\n",
      " [-5.00112525e+01]\n",
      " [ 5.44689165e-01]], loss = 1268094.1361938121\n",
      "epochs 94: w = [[ 9.99999649e+02]\n",
      " [-5.00113794e+01]\n",
      " [ 5.44690725e-01]], loss = 1268078.0306059988\n",
      "epochs 95: w = [[ 9.99999645e+02]\n",
      " [-5.00115062e+01]\n",
      " [ 5.44692285e-01]], loss = 1268061.9252486944\n",
      "epochs 96: w = [[ 9.99999642e+02]\n",
      " [-5.00116330e+01]\n",
      " [ 5.44693845e-01]], loss = 1268045.8201218941\n",
      "epochs 97: w = [[ 9.99999638e+02]\n",
      " [-5.00117599e+01]\n",
      " [ 5.44695405e-01]], loss = 1268029.7152255946\n",
      "epochs 98: w = [[ 9.99999634e+02]\n",
      " [-5.00118867e+01]\n",
      " [ 5.44696966e-01]], loss = 1268013.6105597918\n",
      "epochs 99: w = [[ 9.99999630e+02]\n",
      " [-5.00120136e+01]\n",
      " [ 5.44698526e-01]], loss = 1267997.5061244837\n",
      "epochs 100: w = [[ 9.99999626e+02]\n",
      " [-5.00121404e+01]\n",
      " [ 5.44700086e-01]], loss = 1267981.401919666\n"
     ]
    }
   ],
   "source": [
    "learning_rate = 1e-9\n",
    "epochs = 100\n",
    "threshold = 1e5\n",
    "\n",
    "w, history = gradient_descent(learning_rate, epochs, w, threshold)"
   ]
  },
  {
   "cell_type": "code",
   "execution_count": 103,
   "metadata": {},
   "outputs": [
    {
     "data": {
      "image/png": "[encoded data removed]",
      "text/plain": [
       "<Figure size 432x288 with 1 Axes>"
      ]
     },
     "metadata": {
      "needs_background": "light"
     },
     "output_type": "display_data"
    }
   ],
   "source": [
    "plt.scatter(X[:,1], y, color='red')\n",
    "plt.plot(X[:, 1], predict(w, X))\n",
    "plt.xlabel('Diện tích')\n",
    "plt.ylabel('Giá')\n",
    "plt.show()"
   ]
  },
  {
   "cell_type": "code",
   "execution_count": 76,
   "metadata": {},
   "outputs": [
    {
     "data": {
      "text/plain": [
       "LinearRegression()"
      ]
     },
     "execution_count": 76,
     "metadata": {},
     "output_type": "execute_result"
    }
   ],
   "source": [
    "from sklearn.linear_model import LinearRegression\n",
    "lr2 = LinearRegression()\n",
    "lr2.fit(X, y)"
   ]
  },
  {
   "cell_type": "code",
   "execution_count": 78,
   "metadata": {},
   "outputs": [
    {
     "data": {
      "image/png": "[encoded data removed]",
      "text/plain": [
       "<Figure size 432x288 with 1 Axes>"
      ]
     },
     "metadata": {
      "needs_background": "light"
     },
     "output_type": "display_data"
    }
   ],
   "source": [
    "plt.scatter(X[:, 1], y, color='red')\n",
    "plt.plot(X[:, 1], lr2.predict(X), color='blue')\n",
    "\n",
    "plt.show()"
   ]
  },
  {
   "cell_type": "code",
   "execution_count": 88,
   "metadata": {},
   "outputs": [
    {
     "data": {
      "text/plain": [
       "array([[   0.        , -100.00022214,    1.00000199]])"
      ]
     },
     "execution_count": 88,
     "metadata": {},
     "output_type": "execute_result"
    }
   ],
   "source": [
    "lr2.coef_"
   ]
  },
  {
   "cell_type": "code",
   "execution_count": 104,
   "metadata": {},
   "outputs": [
    {
     "name": "stdout",
     "output_type": "stream",
     "text": [
      "3.909747005493193e-05\n"
     ]
    }
   ],
   "source": [
    "print(MSELoss(lr2.predict(X), y))"
   ]
  }
 ],
 "metadata": {
  "kernelspec": {
   "display_name": "Python 3.7.9 ('learnML')",
   "language": "python",
   "name": "python3"
  },
  "language_info": {
   "codemirror_mode": {
    "name": "ipython",
    "version": 3
   },
   "file_extension": ".py",
   "mimetype": "text/x-python",
   "name": "python",
   "nbconvert_exporter": "python",
   "pygments_lexer": "ipython3",
   "version": "3.7.9"
  },
  "orig_nbformat": 4,
  "vscode": {
   "interpreter": {
    "hash": "9c7f50d6c31ebdaa3072137baa31fccbffe479d2e74e9ade7f7231c8b942130a"
   }
  }
 },
 "nbformat": 4,
 "nbformat_minor": 2
}
